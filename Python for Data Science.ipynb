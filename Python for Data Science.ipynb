{
 "cells": [
  {
   "cell_type": "markdown",
   "id": "33e5a999",
   "metadata": {},
   "source": [
    "## Aprendedo Data Science Python"
   ]
  },
  {
   "cell_type": "markdown",
   "id": "ff461563",
   "metadata": {},
   "source": [
    "Let's have fun!!"
   ]
  },
  {
   "cell_type": "code",
   "execution_count": 1,
   "id": "06a26321",
   "metadata": {},
   "outputs": [
    {
     "name": "stdout",
     "output_type": "stream",
     "text": [
      "Opa Mundão!!\n"
     ]
    }
   ],
   "source": [
    "print(\"Opa Mundão!!\")"
   ]
  },
  {
   "cell_type": "code",
   "execution_count": 4,
   "id": "8accf588",
   "metadata": {},
   "outputs": [],
   "source": [
    "L = [1,3,4.9,\"DINHEIRO\",3]\n",
    "T = (1,3,4.9,\"name\",3)\n",
    "S = {1,3,4,9,\"name\",3}\n",
    "D = {23:\"twothree\",'B':43,'C':'ccd'}"
   ]
  },
  {
   "cell_type": "markdown",
   "id": "fb8aa54b",
   "metadata": {},
   "source": [
    "Numpy"
   ]
  },
  {
   "cell_type": "markdown",
   "id": "80fcba28",
   "metadata": {},
   "source": []
  },
  {
   "cell_type": "code",
   "execution_count": 5,
   "id": "b52cda72",
   "metadata": {},
   "outputs": [],
   "source": [
    "import numpy as np"
   ]
  },
  {
   "cell_type": "code",
   "execution_count": 2,
   "id": "316c9ece",
   "metadata": {},
   "outputs": [],
   "source": [
    "a = np.array([1,2,3,5,7])"
   ]
  },
  {
   "cell_type": "code",
   "execution_count": 4,
   "id": "33426c00",
   "metadata": {},
   "outputs": [],
   "source": [
    "b = np.array((2,3,4))"
   ]
  },
  {
   "cell_type": "code",
   "execution_count": 5,
   "id": "b043279d",
   "metadata": {
    "scrolled": true
   },
   "outputs": [
    {
     "name": "stdout",
     "output_type": "stream",
     "text": [
      "[1 2 3]\n"
     ]
    }
   ],
   "source": [
    "print(a)"
   ]
  },
  {
   "cell_type": "code",
   "execution_count": 8,
   "id": "1a4f9ee8",
   "metadata": {},
   "outputs": [
    {
     "name": "stdout",
     "output_type": "stream",
     "text": [
      "1\n"
     ]
    }
   ],
   "source": [
    "print(a.ndim)"
   ]
  },
  {
   "cell_type": "code",
   "execution_count": 10,
   "id": "65416ddc",
   "metadata": {},
   "outputs": [],
   "source": [
    "a = np.array([[1,2,3],[4,5,6]])\n"
   ]
  },
  {
   "cell_type": "code",
   "execution_count": 12,
   "id": "f1be2cae",
   "metadata": {},
   "outputs": [
    {
     "name": "stdout",
     "output_type": "stream",
     "text": [
      "5\n"
     ]
    }
   ],
   "source": [
    "print(a[1,1])"
   ]
  },
  {
   "cell_type": "code",
   "execution_count": 13,
   "id": "173f80fc",
   "metadata": {},
   "outputs": [
    {
     "data": {
      "text/plain": [
       "2"
      ]
     },
     "execution_count": 13,
     "metadata": {},
     "output_type": "execute_result"
    }
   ],
   "source": [
    "a.ndim"
   ]
  },
  {
   "cell_type": "code",
   "execution_count": 14,
   "id": "551a4f76",
   "metadata": {},
   "outputs": [],
   "source": [
    "b = np.array([[1,2,4,6],[1,9,2,5]])"
   ]
  },
  {
   "cell_type": "code",
   "execution_count": 15,
   "id": "bf8f6ba0",
   "metadata": {},
   "outputs": [
    {
     "data": {
      "text/plain": [
       "2"
      ]
     },
     "execution_count": 15,
     "metadata": {},
     "output_type": "execute_result"
    }
   ],
   "source": [
    "b.ndim"
   ]
  },
  {
   "cell_type": "code",
   "execution_count": 16,
   "id": "6e57bd1e",
   "metadata": {},
   "outputs": [
    {
     "data": {
      "text/plain": [
       "6"
      ]
     },
     "execution_count": 16,
     "metadata": {},
     "output_type": "execute_result"
    }
   ],
   "source": [
    "b[0,3]"
   ]
  },
  {
   "cell_type": "code",
   "execution_count": 20,
   "id": "7c5277ea",
   "metadata": {},
   "outputs": [],
   "source": [
    "c = np.array([[[1,2,3],[4,5,6],[7,8,9]],[[-1,-2,-3],[-4,-5,-6],[-7,-8,-9]]])"
   ]
  },
  {
   "cell_type": "code",
   "execution_count": 21,
   "id": "0686f6a0",
   "metadata": {},
   "outputs": [
    {
     "data": {
      "text/plain": [
       "3"
      ]
     },
     "execution_count": 21,
     "metadata": {},
     "output_type": "execute_result"
    }
   ],
   "source": [
    "c.ndim"
   ]
  },
  {
   "cell_type": "code",
   "execution_count": 23,
   "id": "337ab0f9",
   "metadata": {},
   "outputs": [
    {
     "data": {
      "text/plain": [
       "-6"
      ]
     },
     "execution_count": 23,
     "metadata": {},
     "output_type": "execute_result"
    }
   ],
   "source": [
    "c[1,1,2]"
   ]
  },
  {
   "cell_type": "code",
   "execution_count": 25,
   "id": "0554f174",
   "metadata": {},
   "outputs": [],
   "source": [
    "A = np.arange(20,100,3)"
   ]
  },
  {
   "cell_type": "code",
   "execution_count": 26,
   "id": "006a7986",
   "metadata": {},
   "outputs": [
    {
     "name": "stdout",
     "output_type": "stream",
     "text": [
      "[20 23 26 29 32 35 38 41 44 47 50 53 56 59 62 65 68 71 74 77 80 83 86 89\n",
      " 92 95 98]\n"
     ]
    }
   ],
   "source": [
    "print(A)"
   ]
  },
  {
   "cell_type": "code",
   "execution_count": 32,
   "id": "c14e36f7",
   "metadata": {},
   "outputs": [],
   "source": [
    "A = np.random.permutation(np.arange(10))"
   ]
  },
  {
   "cell_type": "code",
   "execution_count": 33,
   "id": "65088f8b",
   "metadata": {},
   "outputs": [
    {
     "data": {
      "text/plain": [
       "array([1, 0, 9, 2, 4, 3, 8, 7, 5, 6])"
      ]
     },
     "execution_count": 33,
     "metadata": {},
     "output_type": "execute_result"
    }
   ],
   "source": [
    "A"
   ]
  },
  {
   "cell_type": "code",
   "execution_count": 42,
   "id": "ef7a5772",
   "metadata": {},
   "outputs": [
    {
     "data": {
      "text/plain": [
       "22"
      ]
     },
     "execution_count": 42,
     "metadata": {},
     "output_type": "execute_result"
    }
   ],
   "source": [
    "np.random.randint(20,30)"
   ]
  },
  {
   "cell_type": "code",
   "execution_count": 44,
   "id": "f517df79",
   "metadata": {},
   "outputs": [],
   "source": [
    "A = np.random.rand(1000)"
   ]
  },
  {
   "cell_type": "code",
   "execution_count": 3,
   "id": "625a90d6",
   "metadata": {},
   "outputs": [],
   "source": [
    "import matplotlib.pyplot as plt"
   ]
  },
  {
   "cell_type": "code",
   "execution_count": 4,
   "id": "dcbd2e83",
   "metadata": {},
   "outputs": [
    {
     "ename": "NameError",
     "evalue": "name 'A' is not defined",
     "output_type": "error",
     "traceback": [
      "\u001b[1;31m---------------------------------------------------------------------------\u001b[0m",
      "\u001b[1;31mNameError\u001b[0m                                 Traceback (most recent call last)",
      "\u001b[1;32m<ipython-input-4-87feaf8ed652>\u001b[0m in \u001b[0;36m<module>\u001b[1;34m\u001b[0m\n\u001b[1;32m----> 1\u001b[1;33m \u001b[0mplt\u001b[0m\u001b[1;33m.\u001b[0m\u001b[0mhist\u001b[0m\u001b[1;33m(\u001b[0m\u001b[0mA\u001b[0m\u001b[1;33m,\u001b[0m\u001b[0mbins\u001b[0m\u001b[1;33m=\u001b[0m\u001b[1;36m500\u001b[0m\u001b[1;33m)\u001b[0m\u001b[1;33m\u001b[0m\u001b[1;33m\u001b[0m\u001b[0m\n\u001b[0m",
      "\u001b[1;31mNameError\u001b[0m: name 'A' is not defined"
     ]
    }
   ],
   "source": [
    "plt.hist(A,bins=500)"
   ]
  },
  {
   "cell_type": "code",
   "execution_count": 49,
   "id": "2d72fb1d",
   "metadata": {},
   "outputs": [],
   "source": [
    "E = np.random.rand(2,3)"
   ]
  },
  {
   "cell_type": "code",
   "execution_count": 50,
   "id": "71c83977",
   "metadata": {},
   "outputs": [
    {
     "data": {
      "text/plain": [
       "array([[0.72413561, 0.04053956, 0.91639616],\n",
       "       [0.59513609, 0.19610047, 0.62083008]])"
      ]
     },
     "execution_count": 50,
     "metadata": {},
     "output_type": "execute_result"
    }
   ],
   "source": [
    "E"
   ]
  },
  {
   "cell_type": "code",
   "execution_count": 51,
   "id": "ec869f2a",
   "metadata": {},
   "outputs": [],
   "source": [
    "E = np.random.rand(2,3,5,9)"
   ]
  },
  {
   "cell_type": "code",
   "execution_count": 52,
   "id": "15fb097e",
   "metadata": {},
   "outputs": [
    {
     "data": {
      "text/plain": [
       "array([[[[2.90637507e-01, 5.32884812e-01, 8.01536776e-01,\n",
       "          1.65603419e-01, 9.40589967e-02, 5.15604432e-01,\n",
       "          9.70656121e-01, 8.05503510e-01, 9.25779631e-01],\n",
       "         [1.28112844e-01, 4.28757914e-01, 4.86640526e-01,\n",
       "          4.71856780e-01, 5.88119065e-01, 5.96467075e-02,\n",
       "          3.87550196e-01, 9.56776582e-01, 2.47012016e-01],\n",
       "         [6.21225452e-01, 7.54805617e-01, 5.76265506e-01,\n",
       "          8.29923729e-01, 7.36193415e-01, 5.93493725e-01,\n",
       "          7.55344657e-01, 7.74680284e-01, 3.52901181e-01],\n",
       "         [3.13407434e-01, 4.87221762e-01, 2.54423977e-02,\n",
       "          7.03989176e-01, 5.32656812e-01, 4.64751939e-01,\n",
       "          1.91407336e-01, 4.00121281e-01, 4.08167749e-01],\n",
       "         [3.23022176e-01, 4.06742856e-01, 9.91217633e-01,\n",
       "          8.28166125e-02, 9.39579516e-04, 8.60611102e-02,\n",
       "          9.90583213e-01, 1.33316860e-01, 8.80755237e-01]],\n",
       "\n",
       "        [[6.36631558e-01, 7.19780598e-01, 5.61072504e-01,\n",
       "          4.48170648e-01, 6.61822543e-01, 8.06461271e-01,\n",
       "          2.11293084e-01, 3.92273721e-01, 8.68854593e-01],\n",
       "         [8.15125489e-01, 2.31565598e-01, 9.22961844e-01,\n",
       "          7.41517330e-01, 7.55261419e-01, 4.45869293e-01,\n",
       "          1.78556938e-01, 9.23869618e-01, 8.32931017e-01],\n",
       "         [5.62948545e-02, 9.39470257e-01, 9.33172503e-01,\n",
       "          8.89836306e-01, 1.93480241e-01, 5.13892245e-01,\n",
       "          4.78463952e-01, 9.92043899e-01, 1.52163122e-01],\n",
       "         [3.19439393e-01, 5.29791361e-02, 4.45126016e-03,\n",
       "          2.37318144e-01, 2.63773854e-01, 6.95608193e-01,\n",
       "          8.71005396e-01, 4.65437208e-01, 8.10067660e-01],\n",
       "         [7.43952511e-01, 9.64686179e-01, 3.82542051e-01,\n",
       "          6.38970589e-01, 2.46098264e-01, 9.66354628e-01,\n",
       "          4.52417555e-01, 6.01522173e-01, 2.32079181e-01]],\n",
       "\n",
       "        [[4.21869329e-01, 1.78304009e-02, 5.51809906e-01,\n",
       "          6.68628872e-01, 6.41964899e-01, 2.98743255e-01,\n",
       "          4.16097207e-01, 8.60151428e-01, 9.87692983e-01],\n",
       "         [3.98452497e-01, 5.48376750e-01, 4.20827117e-01,\n",
       "          1.82488932e-01, 3.84378841e-01, 3.82928841e-01,\n",
       "          8.17245891e-01, 2.30793582e-01, 5.18667812e-01],\n",
       "         [6.36481757e-02, 8.09702761e-01, 8.09602843e-01,\n",
       "          5.62891644e-01, 9.16385982e-01, 1.72547784e-01,\n",
       "          9.92925042e-01, 8.13740120e-01, 8.99541096e-02],\n",
       "         [5.38510556e-01, 8.50518745e-01, 1.41873886e-01,\n",
       "          4.10702957e-01, 2.07330213e-01, 9.73501813e-01,\n",
       "          8.20787645e-01, 7.05567510e-01, 8.44750241e-01],\n",
       "         [3.70702640e-01, 8.16460671e-01, 1.07222623e-01,\n",
       "          4.53662977e-01, 7.70448412e-01, 4.64345005e-01,\n",
       "          6.71634110e-01, 1.55668245e-02, 6.53999976e-01]]],\n",
       "\n",
       "\n",
       "       [[[8.05683973e-01, 1.54607552e-02, 8.63269427e-01,\n",
       "          5.25764047e-02, 6.50364625e-01, 4.08468104e-01,\n",
       "          9.57357619e-02, 5.27787467e-01, 2.82187771e-02],\n",
       "         [6.56877986e-01, 6.62364343e-01, 6.22663267e-01,\n",
       "          9.90751640e-01, 5.06723057e-01, 5.39792297e-01,\n",
       "          6.33168244e-01, 6.18585397e-01, 6.76038935e-01],\n",
       "         [9.98309251e-01, 6.39482590e-02, 4.03001825e-01,\n",
       "          1.13791617e-01, 7.21719045e-02, 8.36170179e-01,\n",
       "          7.21054281e-02, 5.09100567e-01, 6.62427892e-01],\n",
       "         [2.86143663e-01, 7.74981214e-01, 8.05731540e-01,\n",
       "          3.88433949e-01, 8.77663390e-02, 9.41456305e-01,\n",
       "          7.27275685e-01, 1.11224282e-01, 6.03964044e-01],\n",
       "         [7.11213351e-01, 2.32900819e-01, 9.73005197e-01,\n",
       "          1.43849078e-01, 7.31259706e-01, 7.53241024e-01,\n",
       "          3.75982501e-01, 3.51180593e-02, 2.24116515e-01]],\n",
       "\n",
       "        [[4.90839651e-01, 1.95696430e-01, 9.76026347e-01,\n",
       "          3.44236843e-01, 3.81850877e-01, 9.33588325e-01,\n",
       "          9.94259453e-01, 1.88289241e-01, 5.35131826e-01],\n",
       "         [8.44207099e-01, 8.31027145e-01, 7.50102942e-01,\n",
       "          4.37493759e-01, 6.10834740e-01, 3.92729565e-01,\n",
       "          9.43587573e-01, 2.91891394e-01, 2.76191650e-01],\n",
       "         [6.86078599e-02, 2.49129928e-01, 2.52928575e-01,\n",
       "          6.29569109e-01, 5.04954927e-01, 9.62825148e-01,\n",
       "          8.49631298e-01, 4.80234968e-01, 8.35819720e-01],\n",
       "         [2.39348714e-02, 4.54566288e-02, 2.23653164e-01,\n",
       "          5.71168046e-01, 2.94425585e-01, 9.21905368e-01,\n",
       "          3.55276351e-02, 9.40257708e-01, 4.94285045e-01],\n",
       "         [8.24354693e-01, 4.71701299e-01, 2.28775559e-01,\n",
       "          3.29360603e-02, 7.00522080e-01, 8.79537895e-01,\n",
       "          5.32883126e-01, 4.29362746e-01, 1.99148828e-01]],\n",
       "\n",
       "        [[3.03454651e-02, 8.75313789e-01, 2.34897389e-01,\n",
       "          5.69924592e-01, 3.53816541e-01, 1.85598161e-01,\n",
       "          9.77399084e-01, 5.56007821e-01, 7.89543668e-01],\n",
       "         [6.64074735e-01, 4.09927622e-01, 4.30323718e-01,\n",
       "          3.42818476e-01, 5.84383355e-01, 8.20098519e-01,\n",
       "          5.97805238e-01, 1.96488579e-01, 3.49766120e-01],\n",
       "         [7.18884020e-01, 6.47712721e-01, 6.98103594e-01,\n",
       "          4.28830300e-01, 5.49960301e-01, 8.50186054e-01,\n",
       "          8.81291883e-01, 2.97901840e-01, 1.50250953e-01],\n",
       "         [4.20810118e-01, 5.56493840e-01, 1.66544991e-01,\n",
       "          6.47476475e-01, 1.18798279e-01, 7.76564773e-01,\n",
       "          7.75238126e-01, 8.87304574e-01, 9.62032088e-01],\n",
       "         [8.36500231e-01, 5.74393372e-01, 4.82717975e-01,\n",
       "          4.81454510e-01, 3.39457770e-01, 5.61325438e-01,\n",
       "          1.33675947e-01, 3.00135817e-01, 6.19964450e-01]]]])"
      ]
     },
     "execution_count": 52,
     "metadata": {},
     "output_type": "execute_result"
    }
   ],
   "source": [
    "E"
   ]
  },
  {
   "cell_type": "code",
   "execution_count": 6,
   "id": "564a4b9d",
   "metadata": {},
   "outputs": [
    {
     "name": "stdout",
     "output_type": "stream",
     "text": [
      "[ 0  1  2  3  4  5  6  7  8  9 10 11 12 13 14 15 16 17 18 19 20 21 22 23\n",
      " 24 25 26 27 28 29 30 31 32 33 34 35 36 37 38 39 40 41 42 43 44 45 46 47\n",
      " 48 49 50 51 52 53 54 55 56 57 58 59 60 61 62 63 64 65 66 67 68 69 70 71\n",
      " 72 73 74 75 76 77 78 79 80 81 82 83 84 85 86 87 88 89 90 91 92 93 94 95\n",
      " 96 97 98 99]\n"
     ]
    }
   ],
   "source": [
    "A = np.arange(100)\n",
    "print(A)\n"
   ]
  },
  {
   "cell_type": "code",
   "execution_count": 58,
   "id": "628bb467",
   "metadata": {},
   "outputs": [
    {
     "data": {
      "text/plain": [
       "array([3, 4, 5, 6, 7, 8, 9])"
      ]
     },
     "execution_count": 58,
     "metadata": {},
     "output_type": "execute_result"
    }
   ],
   "source": [
    "b = A[3:10]\n",
    "b"
   ]
  },
  {
   "cell_type": "code",
   "execution_count": 61,
   "id": "0f239a57",
   "metadata": {},
   "outputs": [],
   "source": [
    "b[2]= '222'"
   ]
  },
  {
   "cell_type": "code",
   "execution_count": 62,
   "id": "7479f716",
   "metadata": {},
   "outputs": [
    {
     "data": {
      "text/plain": [
       "array([  0,   1,   2,   3,   4, 222,   6,   7,   8,   9,  10,  11,  12,\n",
       "        13,  14,  15,  16,  17,  18,  19,  20,  21,  22,  23,  24,  25,\n",
       "        26,  27,  28,  29,  30,  31,  32,  33,  34,  35,  36,  37,  38,\n",
       "        39,  40,  41,  42,  43,  44,  45,  46,  47,  48,  49,  50,  51,\n",
       "        52,  53,  54,  55,  56,  57,  58,  59,  60,  61,  62,  63,  64,\n",
       "        65,  66,  67,  68,  69,  70,  71,  72,  73,  74,  75,  76,  77,\n",
       "        78,  79,  80,  81,  82,  83,  84,  85,  86,  87,  88,  89,  90,\n",
       "        91,  92,  93,  94,  95,  96,  97,  98,  99])"
      ]
     },
     "execution_count": 62,
     "metadata": {},
     "output_type": "execute_result"
    }
   ],
   "source": [
    "A"
   ]
  },
  {
   "cell_type": "code",
   "execution_count": 65,
   "id": "390481c0",
   "metadata": {},
   "outputs": [
    {
     "data": {
      "text/plain": [
       "array([ 99,  98,  97,  96,  95,  94,  93,  92,  91,  90,  89,  88,  87,\n",
       "        86,  85,  84,  83,  82,  81,  80,  79,  78,  77,  76,  75,  74,\n",
       "        73,  72,  71,  70,  69,  68,  67,  66,  65,  64,  63,  62,  61,\n",
       "        60,  59,  58,  57,  56,  55,  54,  53,  52,  51,  50,  49,  48,\n",
       "        47,  46,  45,  44,  43,  42,  41,  40,  39,  38,  37,  36,  35,\n",
       "        34,  33,  32,  31,  30,  29,  28,  27,  26,  25,  24,  23,  22,\n",
       "        21,  20,  19,  18,  17,  16,  15,  14,  13,  12,  11,  10,   9,\n",
       "         8,   7,   6, 222,   4,   3,   2,   1,   0])"
      ]
     },
     "execution_count": 65,
     "metadata": {},
     "output_type": "execute_result"
    }
   ],
   "source": [
    "A[::-1]"
   ]
  },
  {
   "cell_type": "code",
   "execution_count": 66,
   "id": "735607c9",
   "metadata": {},
   "outputs": [
    {
     "data": {
      "text/plain": [
       "array([False, False, False, False, False,  True, False, False, False,\n",
       "       False, False, False, False, False, False, False, False, False,\n",
       "       False, False, False, False, False, False, False, False, False,\n",
       "       False, False, False, False, False, False, False, False, False,\n",
       "       False, False, False, False, False, False, False, False, False,\n",
       "       False, False, False, False, False, False, False, False, False,\n",
       "       False, False, False, False, False, False, False, False, False,\n",
       "       False, False, False, False, False, False, False, False, False,\n",
       "       False, False, False, False, False, False, False, False, False,\n",
       "       False, False, False, False, False, False, False, False, False,\n",
       "       False, False, False, False, False, False, False, False, False,\n",
       "       False])"
      ]
     },
     "execution_count": 66,
     "metadata": {},
     "output_type": "execute_result"
    }
   ],
   "source": [
    "B = A==222*np.aran "
   ]
  },
  {
   "cell_type": "markdown",
   "id": "6ab1ba25",
   "metadata": {},
   "source": [
    "Estudar mais métodos de slicing"
   ]
  },
  {
   "cell_type": "code",
   "execution_count": 10,
   "id": "96b038c6",
   "metadata": {},
   "outputs": [],
   "source": [
    "A = A -10"
   ]
  },
  {
   "cell_type": "code",
   "execution_count": 11,
   "id": "79f50b3f",
   "metadata": {},
   "outputs": [
    {
     "data": {
      "text/plain": [
       "array([-5, -4, -3, -2, -1,  0,  1,  2,  3,  4,  5,  6,  7,  8,  9, 10, 11,\n",
       "       12, 13, 14, 15, 16, 17, 18, 19, 20, 21, 22, 23, 24, 25, 26, 27, 28,\n",
       "       29, 30, 31, 32, 33, 34, 35, 36, 37, 38, 39, 40, 41, 42, 43, 44, 45,\n",
       "       46, 47, 48, 49, 50, 51, 52, 53, 54, 55, 56, 57, 58, 59, 60, 61, 62,\n",
       "       63, 64, 65, 66, 67, 68, 69, 70, 71, 72, 73, 74, 75, 76, 77, 78, 79,\n",
       "       80, 81, 82, 83, 84, 85, 86, 87, 88, 89, 90, 91, 92, 93, 94])"
      ]
     },
     "execution_count": 11,
     "metadata": {},
     "output_type": "execute_result"
    }
   ],
   "source": [
    "A"
   ]
  },
  {
   "cell_type": "code",
   "execution_count": 15,
   "id": "97b3493f",
   "metadata": {},
   "outputs": [
    {
     "name": "stdout",
     "output_type": "stream",
     "text": [
      "243 ms ± 27.7 ms per loop (mean ± std. dev. of 7 runs, 10 loops each)\n",
      "2.96 ms ± 134 µs per loop (mean ± std. dev. of 7 runs, 100 loops each)\n",
      "227 ms ± 2.99 ms per loop (mean ± std. dev. of 7 runs, 1 loop each)\n"
     ]
    }
   ],
   "source": [
    "D = np.random.rand(1000000)\n",
    "%timeit sum(D)\n",
    "%timeit np.sum(D)\n",
    "def mysum(D):\n",
    "    s=0 \n",
    "    for x in D:\n",
    "        s+=x\n",
    "%timeit mysum(D)\n"
   ]
  },
  {
   "cell_type": "markdown",
   "id": "ccc125ff",
   "metadata": {},
   "source": [
    "## Pandas"
   ]
  },
  {
   "cell_type": "markdown",
   "id": "053533da",
   "metadata": {},
   "source": [
    "Introdução a Pandas"
   ]
  },
  {
   "cell_type": "code",
   "execution_count": 16,
   "id": "1a729b32",
   "metadata": {},
   "outputs": [],
   "source": [
    "import pandas as pd\n",
    "data = pd.Series([0.25,0.5,0.75,1.0], index=['a','b','c','d'])"
   ]
  },
  {
   "cell_type": "code",
   "execution_count": 18,
   "id": "de84514d",
   "metadata": {},
   "outputs": [
    {
     "data": {
      "text/plain": [
       "array([0.25, 0.5 , 0.75, 1.  ])"
      ]
     },
     "execution_count": 18,
     "metadata": {},
     "output_type": "execute_result"
    }
   ],
   "source": [
    "data.values"
   ]
  },
  {
   "cell_type": "code",
   "execution_count": 19,
   "id": "57e2fecb",
   "metadata": {},
   "outputs": [
    {
     "data": {
      "text/plain": [
       "Index(['a', 'b', 'c', 'd'], dtype='object')"
      ]
     },
     "execution_count": 19,
     "metadata": {},
     "output_type": "execute_result"
    }
   ],
   "source": [
    "data.index"
   ]
  },
  {
   "cell_type": "code",
   "execution_count": 20,
   "id": "5efb8667",
   "metadata": {},
   "outputs": [
    {
     "data": {
      "text/plain": [
       "a    0.25\n",
       "b    0.50\n",
       "c    0.75\n",
       "dtype: float64"
      ]
     },
     "execution_count": 20,
     "metadata": {},
     "output_type": "execute_result"
    }
   ],
   "source": [
    "data['a':'c']"
   ]
  },
  {
   "cell_type": "code",
   "execution_count": 33,
   "id": "eaad3348",
   "metadata": {},
   "outputs": [],
   "source": [
    "grades_dict = {'A':4,'A-':3.5,'B':3,'B-':2.5,'C':2}\n",
    "grades = pd.Series(grades_dict)"
   ]
  },
  {
   "cell_type": "code",
   "execution_count": 34,
   "id": "3e550887",
   "metadata": {},
   "outputs": [
    {
     "data": {
      "text/plain": [
       "Index(['A', 'A-', 'B', 'B-', 'C'], dtype='object')"
      ]
     },
     "execution_count": 34,
     "metadata": {},
     "output_type": "execute_result"
    }
   ],
   "source": [
    "grades.index\n"
   ]
  },
  {
   "cell_type": "code",
   "execution_count": 35,
   "id": "32267685",
   "metadata": {},
   "outputs": [
    {
     "data": {
      "text/plain": [
       "A     4.0\n",
       "A-    3.5\n",
       "B     3.0\n",
       "B-    2.5\n",
       "C     2.0\n",
       "dtype: float64"
      ]
     },
     "execution_count": 35,
     "metadata": {},
     "output_type": "execute_result"
    }
   ],
   "source": [
    "grades['A':'C']"
   ]
  },
  {
   "cell_type": "code",
   "execution_count": 38,
   "id": "cda953b8",
   "metadata": {},
   "outputs": [],
   "source": [
    "marks_dict = {'A':85,'A-':80,'B':75,'B-':70,'C':65}\n",
    "marks = pd.Series(marks_dict)"
   ]
  },
  {
   "cell_type": "code",
   "execution_count": 39,
   "id": "5e27fe8c",
   "metadata": {},
   "outputs": [],
   "source": [
    "D = pd.DataFrame({'Marks':marks, 'Grades': grades})"
   ]
  },
  {
   "cell_type": "code",
   "execution_count": 40,
   "id": "984cb4f3",
   "metadata": {},
   "outputs": [
    {
     "data": {
      "text/html": [
       "<div>\n",
       "<style scoped>\n",
       "    .dataframe tbody tr th:only-of-type {\n",
       "        vertical-align: middle;\n",
       "    }\n",
       "\n",
       "    .dataframe tbody tr th {\n",
       "        vertical-align: top;\n",
       "    }\n",
       "\n",
       "    .dataframe thead th {\n",
       "        text-align: right;\n",
       "    }\n",
       "</style>\n",
       "<table border=\"1\" class=\"dataframe\">\n",
       "  <thead>\n",
       "    <tr style=\"text-align: right;\">\n",
       "      <th></th>\n",
       "      <th>Marks</th>\n",
       "      <th>Grades</th>\n",
       "    </tr>\n",
       "  </thead>\n",
       "  <tbody>\n",
       "    <tr>\n",
       "      <th>A</th>\n",
       "      <td>85</td>\n",
       "      <td>4.0</td>\n",
       "    </tr>\n",
       "    <tr>\n",
       "      <th>A-</th>\n",
       "      <td>80</td>\n",
       "      <td>3.5</td>\n",
       "    </tr>\n",
       "    <tr>\n",
       "      <th>B</th>\n",
       "      <td>75</td>\n",
       "      <td>3.0</td>\n",
       "    </tr>\n",
       "    <tr>\n",
       "      <th>B-</th>\n",
       "      <td>70</td>\n",
       "      <td>2.5</td>\n",
       "    </tr>\n",
       "    <tr>\n",
       "      <th>C</th>\n",
       "      <td>65</td>\n",
       "      <td>2.0</td>\n",
       "    </tr>\n",
       "  </tbody>\n",
       "</table>\n",
       "</div>"
      ],
      "text/plain": [
       "    Marks  Grades\n",
       "A      85     4.0\n",
       "A-     80     3.5\n",
       "B      75     3.0\n",
       "B-     70     2.5\n",
       "C      65     2.0"
      ]
     },
     "execution_count": 40,
     "metadata": {},
     "output_type": "execute_result"
    }
   ],
   "source": [
    "D"
   ]
  },
  {
   "cell_type": "code",
   "execution_count": 41,
   "id": "ce37f7c1",
   "metadata": {},
   "outputs": [
    {
     "data": {
      "text/plain": [
       "75.0"
      ]
     },
     "execution_count": 41,
     "metadata": {},
     "output_type": "execute_result"
    }
   ],
   "source": [
    "D.values[2,0]"
   ]
  },
  {
   "cell_type": "code",
   "execution_count": 43,
   "id": "d9b7a2e5",
   "metadata": {},
   "outputs": [
    {
     "data": {
      "text/plain": [
       "Index(['Marks', 'Grades'], dtype='object')"
      ]
     },
     "execution_count": 43,
     "metadata": {},
     "output_type": "execute_result"
    }
   ],
   "source": [
    "D.columns"
   ]
  },
  {
   "cell_type": "code",
   "execution_count": 44,
   "id": "bae32df6",
   "metadata": {},
   "outputs": [],
   "source": [
    "D['ScaledMarks'] = D['Marks']*0.9"
   ]
  },
  {
   "cell_type": "code",
   "execution_count": 45,
   "id": "f6c0a4c3",
   "metadata": {},
   "outputs": [
    {
     "data": {
      "text/html": [
       "<div>\n",
       "<style scoped>\n",
       "    .dataframe tbody tr th:only-of-type {\n",
       "        vertical-align: middle;\n",
       "    }\n",
       "\n",
       "    .dataframe tbody tr th {\n",
       "        vertical-align: top;\n",
       "    }\n",
       "\n",
       "    .dataframe thead th {\n",
       "        text-align: right;\n",
       "    }\n",
       "</style>\n",
       "<table border=\"1\" class=\"dataframe\">\n",
       "  <thead>\n",
       "    <tr style=\"text-align: right;\">\n",
       "      <th></th>\n",
       "      <th>Marks</th>\n",
       "      <th>Grades</th>\n",
       "      <th>ScaledMarks</th>\n",
       "    </tr>\n",
       "  </thead>\n",
       "  <tbody>\n",
       "    <tr>\n",
       "      <th>A</th>\n",
       "      <td>85</td>\n",
       "      <td>4.0</td>\n",
       "      <td>76.5</td>\n",
       "    </tr>\n",
       "    <tr>\n",
       "      <th>A-</th>\n",
       "      <td>80</td>\n",
       "      <td>3.5</td>\n",
       "      <td>72.0</td>\n",
       "    </tr>\n",
       "    <tr>\n",
       "      <th>B</th>\n",
       "      <td>75</td>\n",
       "      <td>3.0</td>\n",
       "      <td>67.5</td>\n",
       "    </tr>\n",
       "    <tr>\n",
       "      <th>B-</th>\n",
       "      <td>70</td>\n",
       "      <td>2.5</td>\n",
       "      <td>63.0</td>\n",
       "    </tr>\n",
       "    <tr>\n",
       "      <th>C</th>\n",
       "      <td>65</td>\n",
       "      <td>2.0</td>\n",
       "      <td>58.5</td>\n",
       "    </tr>\n",
       "  </tbody>\n",
       "</table>\n",
       "</div>"
      ],
      "text/plain": [
       "    Marks  Grades  ScaledMarks\n",
       "A      85     4.0         76.5\n",
       "A-     80     3.5         72.0\n",
       "B      75     3.0         67.5\n",
       "B-     70     2.5         63.0\n",
       "C      65     2.0         58.5"
      ]
     },
     "execution_count": 45,
     "metadata": {},
     "output_type": "execute_result"
    }
   ],
   "source": [
    "D"
   ]
  },
  {
   "cell_type": "code",
   "execution_count": 46,
   "id": "cf7b7288",
   "metadata": {},
   "outputs": [],
   "source": [
    "del D['ScaledMarks']"
   ]
  },
  {
   "cell_type": "code",
   "execution_count": 47,
   "id": "ba62ba63",
   "metadata": {},
   "outputs": [
    {
     "data": {
      "text/html": [
       "<div>\n",
       "<style scoped>\n",
       "    .dataframe tbody tr th:only-of-type {\n",
       "        vertical-align: middle;\n",
       "    }\n",
       "\n",
       "    .dataframe tbody tr th {\n",
       "        vertical-align: top;\n",
       "    }\n",
       "\n",
       "    .dataframe thead th {\n",
       "        text-align: right;\n",
       "    }\n",
       "</style>\n",
       "<table border=\"1\" class=\"dataframe\">\n",
       "  <thead>\n",
       "    <tr style=\"text-align: right;\">\n",
       "      <th></th>\n",
       "      <th>Marks</th>\n",
       "      <th>Grades</th>\n",
       "    </tr>\n",
       "  </thead>\n",
       "  <tbody>\n",
       "    <tr>\n",
       "      <th>A</th>\n",
       "      <td>85</td>\n",
       "      <td>4.0</td>\n",
       "    </tr>\n",
       "    <tr>\n",
       "      <th>A-</th>\n",
       "      <td>80</td>\n",
       "      <td>3.5</td>\n",
       "    </tr>\n",
       "    <tr>\n",
       "      <th>B</th>\n",
       "      <td>75</td>\n",
       "      <td>3.0</td>\n",
       "    </tr>\n",
       "    <tr>\n",
       "      <th>B-</th>\n",
       "      <td>70</td>\n",
       "      <td>2.5</td>\n",
       "    </tr>\n",
       "    <tr>\n",
       "      <th>C</th>\n",
       "      <td>65</td>\n",
       "      <td>2.0</td>\n",
       "    </tr>\n",
       "  </tbody>\n",
       "</table>\n",
       "</div>"
      ],
      "text/plain": [
       "    Marks  Grades\n",
       "A      85     4.0\n",
       "A-     80     3.5\n",
       "B      75     3.0\n",
       "B-     70     2.5\n",
       "C      65     2.0"
      ]
     },
     "execution_count": 47,
     "metadata": {},
     "output_type": "execute_result"
    }
   ],
   "source": [
    "D"
   ]
  },
  {
   "cell_type": "code",
   "execution_count": 48,
   "id": "df89cc93",
   "metadata": {},
   "outputs": [],
   "source": [
    "G = D[D['Marks']>70]"
   ]
  },
  {
   "cell_type": "code",
   "execution_count": 49,
   "id": "0d8c07ed",
   "metadata": {},
   "outputs": [
    {
     "data": {
      "text/html": [
       "<div>\n",
       "<style scoped>\n",
       "    .dataframe tbody tr th:only-of-type {\n",
       "        vertical-align: middle;\n",
       "    }\n",
       "\n",
       "    .dataframe tbody tr th {\n",
       "        vertical-align: top;\n",
       "    }\n",
       "\n",
       "    .dataframe thead th {\n",
       "        text-align: right;\n",
       "    }\n",
       "</style>\n",
       "<table border=\"1\" class=\"dataframe\">\n",
       "  <thead>\n",
       "    <tr style=\"text-align: right;\">\n",
       "      <th></th>\n",
       "      <th>Marks</th>\n",
       "      <th>Grades</th>\n",
       "    </tr>\n",
       "  </thead>\n",
       "  <tbody>\n",
       "    <tr>\n",
       "      <th>A</th>\n",
       "      <td>85</td>\n",
       "      <td>4.0</td>\n",
       "    </tr>\n",
       "    <tr>\n",
       "      <th>A-</th>\n",
       "      <td>80</td>\n",
       "      <td>3.5</td>\n",
       "    </tr>\n",
       "    <tr>\n",
       "      <th>B</th>\n",
       "      <td>75</td>\n",
       "      <td>3.0</td>\n",
       "    </tr>\n",
       "  </tbody>\n",
       "</table>\n",
       "</div>"
      ],
      "text/plain": [
       "    Marks  Grades\n",
       "A      85     4.0\n",
       "A-     80     3.5\n",
       "B      75     3.0"
      ]
     },
     "execution_count": 49,
     "metadata": {},
     "output_type": "execute_result"
    }
   ],
   "source": [
    "G"
   ]
  },
  {
   "cell_type": "code",
   "execution_count": 51,
   "id": "bd035dd1",
   "metadata": {},
   "outputs": [],
   "source": [
    "A = pd.DataFrame([{'a':1,'b':4},{'b':3,'c':9}])"
   ]
  },
  {
   "cell_type": "code",
   "execution_count": 52,
   "id": "0941c7f1",
   "metadata": {},
   "outputs": [
    {
     "data": {
      "text/html": [
       "<div>\n",
       "<style scoped>\n",
       "    .dataframe tbody tr th:only-of-type {\n",
       "        vertical-align: middle;\n",
       "    }\n",
       "\n",
       "    .dataframe tbody tr th {\n",
       "        vertical-align: top;\n",
       "    }\n",
       "\n",
       "    .dataframe thead th {\n",
       "        text-align: right;\n",
       "    }\n",
       "</style>\n",
       "<table border=\"1\" class=\"dataframe\">\n",
       "  <thead>\n",
       "    <tr style=\"text-align: right;\">\n",
       "      <th></th>\n",
       "      <th>a</th>\n",
       "      <th>b</th>\n",
       "      <th>c</th>\n",
       "    </tr>\n",
       "  </thead>\n",
       "  <tbody>\n",
       "    <tr>\n",
       "      <th>0</th>\n",
       "      <td>1.0</td>\n",
       "      <td>4</td>\n",
       "      <td>NaN</td>\n",
       "    </tr>\n",
       "    <tr>\n",
       "      <th>1</th>\n",
       "      <td>NaN</td>\n",
       "      <td>3</td>\n",
       "      <td>9.0</td>\n",
       "    </tr>\n",
       "  </tbody>\n",
       "</table>\n",
       "</div>"
      ],
      "text/plain": [
       "     a  b    c\n",
       "0  1.0  4  NaN\n",
       "1  NaN  3  9.0"
      ]
     },
     "execution_count": 52,
     "metadata": {},
     "output_type": "execute_result"
    }
   ],
   "source": [
    "A"
   ]
  },
  {
   "cell_type": "code",
   "execution_count": 53,
   "id": "4ca44911",
   "metadata": {},
   "outputs": [
    {
     "data": {
      "text/html": [
       "<div>\n",
       "<style scoped>\n",
       "    .dataframe tbody tr th:only-of-type {\n",
       "        vertical-align: middle;\n",
       "    }\n",
       "\n",
       "    .dataframe tbody tr th {\n",
       "        vertical-align: top;\n",
       "    }\n",
       "\n",
       "    .dataframe thead th {\n",
       "        text-align: right;\n",
       "    }\n",
       "</style>\n",
       "<table border=\"1\" class=\"dataframe\">\n",
       "  <thead>\n",
       "    <tr style=\"text-align: right;\">\n",
       "      <th></th>\n",
       "      <th>a</th>\n",
       "      <th>b</th>\n",
       "      <th>c</th>\n",
       "    </tr>\n",
       "  </thead>\n",
       "  <tbody>\n",
       "    <tr>\n",
       "      <th>0</th>\n",
       "      <td>1.0</td>\n",
       "      <td>4</td>\n",
       "      <td>10000.0</td>\n",
       "    </tr>\n",
       "    <tr>\n",
       "      <th>1</th>\n",
       "      <td>10000.0</td>\n",
       "      <td>3</td>\n",
       "      <td>9.0</td>\n",
       "    </tr>\n",
       "  </tbody>\n",
       "</table>\n",
       "</div>"
      ],
      "text/plain": [
       "         a  b        c\n",
       "0      1.0  4  10000.0\n",
       "1  10000.0  3      9.0"
      ]
     },
     "execution_count": 53,
     "metadata": {},
     "output_type": "execute_result"
    }
   ],
   "source": [
    "A.fillna(10000)"
   ]
  },
  {
   "cell_type": "code",
   "execution_count": 54,
   "id": "748c8997",
   "metadata": {},
   "outputs": [
    {
     "data": {
      "text/plain": [
       "<bound method DataFrame.dropna of      a  b    c\n",
       "0  1.0  4  NaN\n",
       "1  NaN  3  9.0>"
      ]
     },
     "execution_count": 54,
     "metadata": {},
     "output_type": "execute_result"
    }
   ],
   "source": [
    "A.dropna"
   ]
  },
  {
   "cell_type": "code",
   "execution_count": 55,
   "id": "7333413d",
   "metadata": {},
   "outputs": [
    {
     "data": {
      "text/html": [
       "<div>\n",
       "<style scoped>\n",
       "    .dataframe tbody tr th:only-of-type {\n",
       "        vertical-align: middle;\n",
       "    }\n",
       "\n",
       "    .dataframe tbody tr th {\n",
       "        vertical-align: top;\n",
       "    }\n",
       "\n",
       "    .dataframe thead th {\n",
       "        text-align: right;\n",
       "    }\n",
       "</style>\n",
       "<table border=\"1\" class=\"dataframe\">\n",
       "  <thead>\n",
       "    <tr style=\"text-align: right;\">\n",
       "      <th></th>\n",
       "      <th>a</th>\n",
       "      <th>b</th>\n",
       "      <th>c</th>\n",
       "    </tr>\n",
       "  </thead>\n",
       "  <tbody>\n",
       "    <tr>\n",
       "      <th>0</th>\n",
       "      <td>1.0</td>\n",
       "      <td>4</td>\n",
       "      <td>NaN</td>\n",
       "    </tr>\n",
       "    <tr>\n",
       "      <th>1</th>\n",
       "      <td>NaN</td>\n",
       "      <td>3</td>\n",
       "      <td>9.0</td>\n",
       "    </tr>\n",
       "  </tbody>\n",
       "</table>\n",
       "</div>"
      ],
      "text/plain": [
       "     a  b    c\n",
       "0  1.0  4  NaN\n",
       "1  NaN  3  9.0"
      ]
     },
     "execution_count": 55,
     "metadata": {},
     "output_type": "execute_result"
    }
   ],
   "source": [
    "A"
   ]
  },
  {
   "cell_type": "code",
   "execution_count": 56,
   "id": "a9384060",
   "metadata": {},
   "outputs": [
    {
     "data": {
      "text/plain": [
       "a    NaN\n",
       "b    3.0\n",
       "c    9.0\n",
       "Name: 1, dtype: float64"
      ]
     },
     "execution_count": 56,
     "metadata": {},
     "output_type": "execute_result"
    }
   ],
   "source": [
    "A.loc[1]"
   ]
  },
  {
   "cell_type": "code",
   "execution_count": 61,
   "id": "0dd17ee8",
   "metadata": {},
   "outputs": [
    {
     "data": {
      "text/html": [
       "<div>\n",
       "<style scoped>\n",
       "    .dataframe tbody tr th:only-of-type {\n",
       "        vertical-align: middle;\n",
       "    }\n",
       "\n",
       "    .dataframe tbody tr th {\n",
       "        vertical-align: top;\n",
       "    }\n",
       "\n",
       "    .dataframe thead th {\n",
       "        text-align: right;\n",
       "    }\n",
       "</style>\n",
       "<table border=\"1\" class=\"dataframe\">\n",
       "  <thead>\n",
       "    <tr style=\"text-align: right;\">\n",
       "      <th></th>\n",
       "      <th>a</th>\n",
       "      <th>b</th>\n",
       "      <th>c</th>\n",
       "    </tr>\n",
       "  </thead>\n",
       "  <tbody>\n",
       "    <tr>\n",
       "      <th>0</th>\n",
       "      <td>1.0</td>\n",
       "      <td>4</td>\n",
       "      <td>NaN</td>\n",
       "    </tr>\n",
       "  </tbody>\n",
       "</table>\n",
       "</div>"
      ],
      "text/plain": [
       "     a  b   c\n",
       "0  1.0  4 NaN"
      ]
     },
     "execution_count": 61,
     "metadata": {},
     "output_type": "execute_result"
    }
   ],
   "source": [
    "A.iloc[0:1]"
   ]
  },
  {
   "cell_type": "markdown",
   "id": "61531e02",
   "metadata": {},
   "source": [
    "## Indo para o Mundo Real"
   ]
  },
  {
   "cell_type": "markdown",
   "id": "c908761e",
   "metadata": {},
   "source": [
    "Analisando dados da covid via Pandas"
   ]
  },
  {
   "cell_type": "code",
   "execution_count": 66,
   "id": "8664f707",
   "metadata": {},
   "outputs": [],
   "source": [
    "import pandas as pd\n",
    "import numpy as np \n",
    "from sklearn.impute import SimpleImputer\n",
    "df = pd.read_csv('caso_full.csv')"
   ]
  },
  {
   "cell_type": "code",
   "execution_count": 68,
   "id": "07a31c5e",
   "metadata": {},
   "outputs": [
    {
     "data": {
      "text/html": [
       "<div>\n",
       "<style scoped>\n",
       "    .dataframe tbody tr th:only-of-type {\n",
       "        vertical-align: middle;\n",
       "    }\n",
       "\n",
       "    .dataframe tbody tr th {\n",
       "        vertical-align: top;\n",
       "    }\n",
       "\n",
       "    .dataframe thead th {\n",
       "        text-align: right;\n",
       "    }\n",
       "</style>\n",
       "<table border=\"1\" class=\"dataframe\">\n",
       "  <thead>\n",
       "    <tr style=\"text-align: right;\">\n",
       "      <th></th>\n",
       "      <th>city</th>\n",
       "      <th>city_ibge_code</th>\n",
       "      <th>date</th>\n",
       "      <th>epidemiological_week</th>\n",
       "      <th>estimated_population</th>\n",
       "      <th>estimated_population_2019</th>\n",
       "      <th>is_last</th>\n",
       "      <th>is_repeated</th>\n",
       "      <th>last_available_confirmed</th>\n",
       "      <th>last_available_confirmed_per_100k_inhabitants</th>\n",
       "      <th>last_available_date</th>\n",
       "      <th>last_available_death_rate</th>\n",
       "      <th>last_available_deaths</th>\n",
       "      <th>order_for_place</th>\n",
       "      <th>place_type</th>\n",
       "      <th>state</th>\n",
       "      <th>new_confirmed</th>\n",
       "      <th>new_deaths</th>\n",
       "    </tr>\n",
       "  </thead>\n",
       "  <tbody>\n",
       "    <tr>\n",
       "      <th>0</th>\n",
       "      <td>Rio Branco</td>\n",
       "      <td>1200401.0</td>\n",
       "      <td>2020-03-17</td>\n",
       "      <td>202012</td>\n",
       "      <td>413418.0</td>\n",
       "      <td>407319.0</td>\n",
       "      <td>False</td>\n",
       "      <td>False</td>\n",
       "      <td>3</td>\n",
       "      <td>0.72566</td>\n",
       "      <td>2020-03-17</td>\n",
       "      <td>0.0</td>\n",
       "      <td>0</td>\n",
       "      <td>1</td>\n",
       "      <td>city</td>\n",
       "      <td>AC</td>\n",
       "      <td>3</td>\n",
       "      <td>0</td>\n",
       "    </tr>\n",
       "    <tr>\n",
       "      <th>1</th>\n",
       "      <td>NaN</td>\n",
       "      <td>12.0</td>\n",
       "      <td>2020-03-17</td>\n",
       "      <td>202012</td>\n",
       "      <td>894470.0</td>\n",
       "      <td>881935.0</td>\n",
       "      <td>False</td>\n",
       "      <td>False</td>\n",
       "      <td>3</td>\n",
       "      <td>0.33539</td>\n",
       "      <td>2020-03-17</td>\n",
       "      <td>0.0</td>\n",
       "      <td>0</td>\n",
       "      <td>1</td>\n",
       "      <td>state</td>\n",
       "      <td>AC</td>\n",
       "      <td>3</td>\n",
       "      <td>0</td>\n",
       "    </tr>\n",
       "    <tr>\n",
       "      <th>2</th>\n",
       "      <td>Rio Branco</td>\n",
       "      <td>1200401.0</td>\n",
       "      <td>2020-03-18</td>\n",
       "      <td>202012</td>\n",
       "      <td>413418.0</td>\n",
       "      <td>407319.0</td>\n",
       "      <td>False</td>\n",
       "      <td>False</td>\n",
       "      <td>3</td>\n",
       "      <td>0.72566</td>\n",
       "      <td>2020-03-18</td>\n",
       "      <td>0.0</td>\n",
       "      <td>0</td>\n",
       "      <td>2</td>\n",
       "      <td>city</td>\n",
       "      <td>AC</td>\n",
       "      <td>0</td>\n",
       "      <td>0</td>\n",
       "    </tr>\n",
       "    <tr>\n",
       "      <th>3</th>\n",
       "      <td>NaN</td>\n",
       "      <td>12.0</td>\n",
       "      <td>2020-03-18</td>\n",
       "      <td>202012</td>\n",
       "      <td>894470.0</td>\n",
       "      <td>881935.0</td>\n",
       "      <td>False</td>\n",
       "      <td>False</td>\n",
       "      <td>3</td>\n",
       "      <td>0.33539</td>\n",
       "      <td>2020-03-18</td>\n",
       "      <td>0.0</td>\n",
       "      <td>0</td>\n",
       "      <td>2</td>\n",
       "      <td>state</td>\n",
       "      <td>AC</td>\n",
       "      <td>0</td>\n",
       "      <td>0</td>\n",
       "    </tr>\n",
       "    <tr>\n",
       "      <th>4</th>\n",
       "      <td>Rio Branco</td>\n",
       "      <td>1200401.0</td>\n",
       "      <td>2020-03-19</td>\n",
       "      <td>202012</td>\n",
       "      <td>413418.0</td>\n",
       "      <td>407319.0</td>\n",
       "      <td>False</td>\n",
       "      <td>False</td>\n",
       "      <td>4</td>\n",
       "      <td>0.96754</td>\n",
       "      <td>2020-03-19</td>\n",
       "      <td>0.0</td>\n",
       "      <td>0</td>\n",
       "      <td>3</td>\n",
       "      <td>city</td>\n",
       "      <td>AC</td>\n",
       "      <td>1</td>\n",
       "      <td>0</td>\n",
       "    </tr>\n",
       "    <tr>\n",
       "      <th>5</th>\n",
       "      <td>NaN</td>\n",
       "      <td>12.0</td>\n",
       "      <td>2020-03-19</td>\n",
       "      <td>202012</td>\n",
       "      <td>894470.0</td>\n",
       "      <td>881935.0</td>\n",
       "      <td>False</td>\n",
       "      <td>False</td>\n",
       "      <td>4</td>\n",
       "      <td>0.44719</td>\n",
       "      <td>2020-03-19</td>\n",
       "      <td>0.0</td>\n",
       "      <td>0</td>\n",
       "      <td>3</td>\n",
       "      <td>state</td>\n",
       "      <td>AC</td>\n",
       "      <td>1</td>\n",
       "      <td>0</td>\n",
       "    </tr>\n",
       "    <tr>\n",
       "      <th>6</th>\n",
       "      <td>Rio Branco</td>\n",
       "      <td>1200401.0</td>\n",
       "      <td>2020-03-20</td>\n",
       "      <td>202012</td>\n",
       "      <td>413418.0</td>\n",
       "      <td>407319.0</td>\n",
       "      <td>False</td>\n",
       "      <td>False</td>\n",
       "      <td>7</td>\n",
       "      <td>1.69320</td>\n",
       "      <td>2020-03-20</td>\n",
       "      <td>0.0</td>\n",
       "      <td>0</td>\n",
       "      <td>4</td>\n",
       "      <td>city</td>\n",
       "      <td>AC</td>\n",
       "      <td>3</td>\n",
       "      <td>0</td>\n",
       "    </tr>\n",
       "    <tr>\n",
       "      <th>7</th>\n",
       "      <td>NaN</td>\n",
       "      <td>12.0</td>\n",
       "      <td>2020-03-20</td>\n",
       "      <td>202012</td>\n",
       "      <td>894470.0</td>\n",
       "      <td>881935.0</td>\n",
       "      <td>False</td>\n",
       "      <td>False</td>\n",
       "      <td>7</td>\n",
       "      <td>0.78259</td>\n",
       "      <td>2020-03-20</td>\n",
       "      <td>0.0</td>\n",
       "      <td>0</td>\n",
       "      <td>4</td>\n",
       "      <td>state</td>\n",
       "      <td>AC</td>\n",
       "      <td>3</td>\n",
       "      <td>0</td>\n",
       "    </tr>\n",
       "    <tr>\n",
       "      <th>8</th>\n",
       "      <td>Rio Branco</td>\n",
       "      <td>1200401.0</td>\n",
       "      <td>2020-03-21</td>\n",
       "      <td>202012</td>\n",
       "      <td>413418.0</td>\n",
       "      <td>407319.0</td>\n",
       "      <td>False</td>\n",
       "      <td>False</td>\n",
       "      <td>11</td>\n",
       "      <td>2.66075</td>\n",
       "      <td>2020-03-21</td>\n",
       "      <td>0.0</td>\n",
       "      <td>0</td>\n",
       "      <td>5</td>\n",
       "      <td>city</td>\n",
       "      <td>AC</td>\n",
       "      <td>4</td>\n",
       "      <td>0</td>\n",
       "    </tr>\n",
       "    <tr>\n",
       "      <th>9</th>\n",
       "      <td>NaN</td>\n",
       "      <td>12.0</td>\n",
       "      <td>2020-03-21</td>\n",
       "      <td>202012</td>\n",
       "      <td>894470.0</td>\n",
       "      <td>881935.0</td>\n",
       "      <td>False</td>\n",
       "      <td>False</td>\n",
       "      <td>11</td>\n",
       "      <td>1.22978</td>\n",
       "      <td>2020-03-21</td>\n",
       "      <td>0.0</td>\n",
       "      <td>0</td>\n",
       "      <td>5</td>\n",
       "      <td>state</td>\n",
       "      <td>AC</td>\n",
       "      <td>4</td>\n",
       "      <td>0</td>\n",
       "    </tr>\n",
       "    <tr>\n",
       "      <th>10</th>\n",
       "      <td>Rio Branco</td>\n",
       "      <td>1200401.0</td>\n",
       "      <td>2020-03-22</td>\n",
       "      <td>202013</td>\n",
       "      <td>413418.0</td>\n",
       "      <td>407319.0</td>\n",
       "      <td>False</td>\n",
       "      <td>False</td>\n",
       "      <td>11</td>\n",
       "      <td>2.66075</td>\n",
       "      <td>2020-03-22</td>\n",
       "      <td>0.0</td>\n",
       "      <td>0</td>\n",
       "      <td>6</td>\n",
       "      <td>city</td>\n",
       "      <td>AC</td>\n",
       "      <td>0</td>\n",
       "      <td>0</td>\n",
       "    </tr>\n",
       "    <tr>\n",
       "      <th>11</th>\n",
       "      <td>NaN</td>\n",
       "      <td>12.0</td>\n",
       "      <td>2020-03-22</td>\n",
       "      <td>202013</td>\n",
       "      <td>894470.0</td>\n",
       "      <td>881935.0</td>\n",
       "      <td>False</td>\n",
       "      <td>False</td>\n",
       "      <td>11</td>\n",
       "      <td>1.22978</td>\n",
       "      <td>2020-03-22</td>\n",
       "      <td>0.0</td>\n",
       "      <td>0</td>\n",
       "      <td>6</td>\n",
       "      <td>state</td>\n",
       "      <td>AC</td>\n",
       "      <td>0</td>\n",
       "      <td>0</td>\n",
       "    </tr>\n",
       "    <tr>\n",
       "      <th>12</th>\n",
       "      <td>Rio Branco</td>\n",
       "      <td>1200401.0</td>\n",
       "      <td>2020-03-23</td>\n",
       "      <td>202013</td>\n",
       "      <td>413418.0</td>\n",
       "      <td>407319.0</td>\n",
       "      <td>False</td>\n",
       "      <td>False</td>\n",
       "      <td>17</td>\n",
       "      <td>4.11206</td>\n",
       "      <td>2020-03-23</td>\n",
       "      <td>0.0</td>\n",
       "      <td>0</td>\n",
       "      <td>7</td>\n",
       "      <td>city</td>\n",
       "      <td>AC</td>\n",
       "      <td>6</td>\n",
       "      <td>0</td>\n",
       "    </tr>\n",
       "    <tr>\n",
       "      <th>13</th>\n",
       "      <td>NaN</td>\n",
       "      <td>12.0</td>\n",
       "      <td>2020-03-23</td>\n",
       "      <td>202013</td>\n",
       "      <td>894470.0</td>\n",
       "      <td>881935.0</td>\n",
       "      <td>False</td>\n",
       "      <td>False</td>\n",
       "      <td>17</td>\n",
       "      <td>1.90057</td>\n",
       "      <td>2020-03-23</td>\n",
       "      <td>0.0</td>\n",
       "      <td>0</td>\n",
       "      <td>7</td>\n",
       "      <td>state</td>\n",
       "      <td>AC</td>\n",
       "      <td>6</td>\n",
       "      <td>0</td>\n",
       "    </tr>\n",
       "    <tr>\n",
       "      <th>14</th>\n",
       "      <td>Rio Branco</td>\n",
       "      <td>1200401.0</td>\n",
       "      <td>2020-03-24</td>\n",
       "      <td>202013</td>\n",
       "      <td>413418.0</td>\n",
       "      <td>407319.0</td>\n",
       "      <td>False</td>\n",
       "      <td>False</td>\n",
       "      <td>21</td>\n",
       "      <td>5.07960</td>\n",
       "      <td>2020-03-24</td>\n",
       "      <td>0.0</td>\n",
       "      <td>0</td>\n",
       "      <td>8</td>\n",
       "      <td>city</td>\n",
       "      <td>AC</td>\n",
       "      <td>4</td>\n",
       "      <td>0</td>\n",
       "    </tr>\n",
       "    <tr>\n",
       "      <th>15</th>\n",
       "      <td>NaN</td>\n",
       "      <td>12.0</td>\n",
       "      <td>2020-03-24</td>\n",
       "      <td>202013</td>\n",
       "      <td>894470.0</td>\n",
       "      <td>881935.0</td>\n",
       "      <td>False</td>\n",
       "      <td>False</td>\n",
       "      <td>21</td>\n",
       "      <td>2.34776</td>\n",
       "      <td>2020-03-24</td>\n",
       "      <td>0.0</td>\n",
       "      <td>0</td>\n",
       "      <td>8</td>\n",
       "      <td>state</td>\n",
       "      <td>AC</td>\n",
       "      <td>4</td>\n",
       "      <td>0</td>\n",
       "    </tr>\n",
       "    <tr>\n",
       "      <th>16</th>\n",
       "      <td>Rio Branco</td>\n",
       "      <td>1200401.0</td>\n",
       "      <td>2020-03-25</td>\n",
       "      <td>202013</td>\n",
       "      <td>413418.0</td>\n",
       "      <td>407319.0</td>\n",
       "      <td>False</td>\n",
       "      <td>False</td>\n",
       "      <td>23</td>\n",
       "      <td>5.56338</td>\n",
       "      <td>2020-03-25</td>\n",
       "      <td>0.0</td>\n",
       "      <td>0</td>\n",
       "      <td>9</td>\n",
       "      <td>city</td>\n",
       "      <td>AC</td>\n",
       "      <td>2</td>\n",
       "      <td>0</td>\n",
       "    </tr>\n",
       "    <tr>\n",
       "      <th>17</th>\n",
       "      <td>NaN</td>\n",
       "      <td>12.0</td>\n",
       "      <td>2020-03-25</td>\n",
       "      <td>202013</td>\n",
       "      <td>894470.0</td>\n",
       "      <td>881935.0</td>\n",
       "      <td>False</td>\n",
       "      <td>False</td>\n",
       "      <td>23</td>\n",
       "      <td>2.57136</td>\n",
       "      <td>2020-03-25</td>\n",
       "      <td>0.0</td>\n",
       "      <td>0</td>\n",
       "      <td>9</td>\n",
       "      <td>state</td>\n",
       "      <td>AC</td>\n",
       "      <td>2</td>\n",
       "      <td>0</td>\n",
       "    </tr>\n",
       "    <tr>\n",
       "      <th>18</th>\n",
       "      <td>Rio Branco</td>\n",
       "      <td>1200401.0</td>\n",
       "      <td>2020-03-26</td>\n",
       "      <td>202013</td>\n",
       "      <td>413418.0</td>\n",
       "      <td>407319.0</td>\n",
       "      <td>False</td>\n",
       "      <td>False</td>\n",
       "      <td>23</td>\n",
       "      <td>5.56338</td>\n",
       "      <td>2020-03-26</td>\n",
       "      <td>0.0</td>\n",
       "      <td>0</td>\n",
       "      <td>10</td>\n",
       "      <td>city</td>\n",
       "      <td>AC</td>\n",
       "      <td>0</td>\n",
       "      <td>0</td>\n",
       "    </tr>\n",
       "    <tr>\n",
       "      <th>19</th>\n",
       "      <td>NaN</td>\n",
       "      <td>12.0</td>\n",
       "      <td>2020-03-26</td>\n",
       "      <td>202013</td>\n",
       "      <td>894470.0</td>\n",
       "      <td>881935.0</td>\n",
       "      <td>False</td>\n",
       "      <td>False</td>\n",
       "      <td>23</td>\n",
       "      <td>2.57136</td>\n",
       "      <td>2020-03-26</td>\n",
       "      <td>0.0</td>\n",
       "      <td>0</td>\n",
       "      <td>10</td>\n",
       "      <td>state</td>\n",
       "      <td>AC</td>\n",
       "      <td>0</td>\n",
       "      <td>0</td>\n",
       "    </tr>\n",
       "    <tr>\n",
       "      <th>20</th>\n",
       "      <td>Rio Branco</td>\n",
       "      <td>1200401.0</td>\n",
       "      <td>2020-03-27</td>\n",
       "      <td>202013</td>\n",
       "      <td>413418.0</td>\n",
       "      <td>407319.0</td>\n",
       "      <td>False</td>\n",
       "      <td>False</td>\n",
       "      <td>25</td>\n",
       "      <td>6.04715</td>\n",
       "      <td>2020-03-27</td>\n",
       "      <td>0.0</td>\n",
       "      <td>0</td>\n",
       "      <td>11</td>\n",
       "      <td>city</td>\n",
       "      <td>AC</td>\n",
       "      <td>2</td>\n",
       "      <td>0</td>\n",
       "    </tr>\n",
       "    <tr>\n",
       "      <th>21</th>\n",
       "      <td>NaN</td>\n",
       "      <td>12.0</td>\n",
       "      <td>2020-03-27</td>\n",
       "      <td>202013</td>\n",
       "      <td>894470.0</td>\n",
       "      <td>881935.0</td>\n",
       "      <td>False</td>\n",
       "      <td>False</td>\n",
       "      <td>25</td>\n",
       "      <td>2.79495</td>\n",
       "      <td>2020-03-27</td>\n",
       "      <td>0.0</td>\n",
       "      <td>0</td>\n",
       "      <td>11</td>\n",
       "      <td>state</td>\n",
       "      <td>AC</td>\n",
       "      <td>2</td>\n",
       "      <td>0</td>\n",
       "    </tr>\n",
       "    <tr>\n",
       "      <th>22</th>\n",
       "      <td>Rio Branco</td>\n",
       "      <td>1200401.0</td>\n",
       "      <td>2020-03-28</td>\n",
       "      <td>202013</td>\n",
       "      <td>413418.0</td>\n",
       "      <td>407319.0</td>\n",
       "      <td>False</td>\n",
       "      <td>False</td>\n",
       "      <td>25</td>\n",
       "      <td>6.04715</td>\n",
       "      <td>2020-03-28</td>\n",
       "      <td>0.0</td>\n",
       "      <td>0</td>\n",
       "      <td>12</td>\n",
       "      <td>city</td>\n",
       "      <td>AC</td>\n",
       "      <td>0</td>\n",
       "      <td>0</td>\n",
       "    </tr>\n",
       "    <tr>\n",
       "      <th>23</th>\n",
       "      <td>NaN</td>\n",
       "      <td>12.0</td>\n",
       "      <td>2020-03-28</td>\n",
       "      <td>202013</td>\n",
       "      <td>894470.0</td>\n",
       "      <td>881935.0</td>\n",
       "      <td>False</td>\n",
       "      <td>False</td>\n",
       "      <td>25</td>\n",
       "      <td>2.79495</td>\n",
       "      <td>2020-03-28</td>\n",
       "      <td>0.0</td>\n",
       "      <td>0</td>\n",
       "      <td>12</td>\n",
       "      <td>state</td>\n",
       "      <td>AC</td>\n",
       "      <td>0</td>\n",
       "      <td>0</td>\n",
       "    </tr>\n",
       "    <tr>\n",
       "      <th>24</th>\n",
       "      <td>Acrelândia</td>\n",
       "      <td>1200013.0</td>\n",
       "      <td>2020-03-29</td>\n",
       "      <td>202014</td>\n",
       "      <td>15490.0</td>\n",
       "      <td>15256.0</td>\n",
       "      <td>False</td>\n",
       "      <td>False</td>\n",
       "      <td>2</td>\n",
       "      <td>12.91156</td>\n",
       "      <td>2020-03-29</td>\n",
       "      <td>0.0</td>\n",
       "      <td>0</td>\n",
       "      <td>1</td>\n",
       "      <td>city</td>\n",
       "      <td>AC</td>\n",
       "      <td>2</td>\n",
       "      <td>0</td>\n",
       "    </tr>\n",
       "    <tr>\n",
       "      <th>25</th>\n",
       "      <td>Porto Acre</td>\n",
       "      <td>1200807.0</td>\n",
       "      <td>2020-03-29</td>\n",
       "      <td>202014</td>\n",
       "      <td>18824.0</td>\n",
       "      <td>18504.0</td>\n",
       "      <td>False</td>\n",
       "      <td>False</td>\n",
       "      <td>1</td>\n",
       "      <td>5.31237</td>\n",
       "      <td>2020-03-29</td>\n",
       "      <td>0.0</td>\n",
       "      <td>0</td>\n",
       "      <td>1</td>\n",
       "      <td>city</td>\n",
       "      <td>AC</td>\n",
       "      <td>1</td>\n",
       "      <td>0</td>\n",
       "    </tr>\n",
       "    <tr>\n",
       "      <th>26</th>\n",
       "      <td>Rio Branco</td>\n",
       "      <td>1200401.0</td>\n",
       "      <td>2020-03-29</td>\n",
       "      <td>202014</td>\n",
       "      <td>413418.0</td>\n",
       "      <td>407319.0</td>\n",
       "      <td>False</td>\n",
       "      <td>False</td>\n",
       "      <td>31</td>\n",
       "      <td>7.49846</td>\n",
       "      <td>2020-03-29</td>\n",
       "      <td>0.0</td>\n",
       "      <td>0</td>\n",
       "      <td>13</td>\n",
       "      <td>city</td>\n",
       "      <td>AC</td>\n",
       "      <td>6</td>\n",
       "      <td>0</td>\n",
       "    </tr>\n",
       "    <tr>\n",
       "      <th>27</th>\n",
       "      <td>NaN</td>\n",
       "      <td>12.0</td>\n",
       "      <td>2020-03-29</td>\n",
       "      <td>202014</td>\n",
       "      <td>894470.0</td>\n",
       "      <td>881935.0</td>\n",
       "      <td>False</td>\n",
       "      <td>False</td>\n",
       "      <td>34</td>\n",
       "      <td>3.80113</td>\n",
       "      <td>2020-03-29</td>\n",
       "      <td>0.0</td>\n",
       "      <td>0</td>\n",
       "      <td>13</td>\n",
       "      <td>state</td>\n",
       "      <td>AC</td>\n",
       "      <td>9</td>\n",
       "      <td>0</td>\n",
       "    </tr>\n",
       "    <tr>\n",
       "      <th>28</th>\n",
       "      <td>Acrelândia</td>\n",
       "      <td>1200013.0</td>\n",
       "      <td>2020-03-30</td>\n",
       "      <td>202014</td>\n",
       "      <td>15490.0</td>\n",
       "      <td>15256.0</td>\n",
       "      <td>False</td>\n",
       "      <td>False</td>\n",
       "      <td>6</td>\n",
       "      <td>38.73467</td>\n",
       "      <td>2020-03-30</td>\n",
       "      <td>0.0</td>\n",
       "      <td>0</td>\n",
       "      <td>2</td>\n",
       "      <td>city</td>\n",
       "      <td>AC</td>\n",
       "      <td>4</td>\n",
       "      <td>0</td>\n",
       "    </tr>\n",
       "    <tr>\n",
       "      <th>29</th>\n",
       "      <td>Porto Acre</td>\n",
       "      <td>1200807.0</td>\n",
       "      <td>2020-03-30</td>\n",
       "      <td>202014</td>\n",
       "      <td>18824.0</td>\n",
       "      <td>18504.0</td>\n",
       "      <td>False</td>\n",
       "      <td>False</td>\n",
       "      <td>1</td>\n",
       "      <td>5.31237</td>\n",
       "      <td>2020-03-30</td>\n",
       "      <td>0.0</td>\n",
       "      <td>0</td>\n",
       "      <td>2</td>\n",
       "      <td>city</td>\n",
       "      <td>AC</td>\n",
       "      <td>0</td>\n",
       "      <td>0</td>\n",
       "    </tr>\n",
       "    <tr>\n",
       "      <th>30</th>\n",
       "      <td>Rio Branco</td>\n",
       "      <td>1200401.0</td>\n",
       "      <td>2020-03-30</td>\n",
       "      <td>202014</td>\n",
       "      <td>413418.0</td>\n",
       "      <td>407319.0</td>\n",
       "      <td>False</td>\n",
       "      <td>False</td>\n",
       "      <td>34</td>\n",
       "      <td>8.22412</td>\n",
       "      <td>2020-03-30</td>\n",
       "      <td>0.0</td>\n",
       "      <td>0</td>\n",
       "      <td>14</td>\n",
       "      <td>city</td>\n",
       "      <td>AC</td>\n",
       "      <td>3</td>\n",
       "      <td>0</td>\n",
       "    </tr>\n",
       "    <tr>\n",
       "      <th>31</th>\n",
       "      <td>NaN</td>\n",
       "      <td>12.0</td>\n",
       "      <td>2020-03-30</td>\n",
       "      <td>202014</td>\n",
       "      <td>894470.0</td>\n",
       "      <td>881935.0</td>\n",
       "      <td>False</td>\n",
       "      <td>False</td>\n",
       "      <td>41</td>\n",
       "      <td>4.58372</td>\n",
       "      <td>2020-03-30</td>\n",
       "      <td>0.0</td>\n",
       "      <td>0</td>\n",
       "      <td>14</td>\n",
       "      <td>state</td>\n",
       "      <td>AC</td>\n",
       "      <td>7</td>\n",
       "      <td>0</td>\n",
       "    </tr>\n",
       "    <tr>\n",
       "      <th>32</th>\n",
       "      <td>Acrelândia</td>\n",
       "      <td>1200013.0</td>\n",
       "      <td>2020-03-31</td>\n",
       "      <td>202014</td>\n",
       "      <td>15490.0</td>\n",
       "      <td>15256.0</td>\n",
       "      <td>False</td>\n",
       "      <td>False</td>\n",
       "      <td>7</td>\n",
       "      <td>45.19045</td>\n",
       "      <td>2020-03-31</td>\n",
       "      <td>0.0</td>\n",
       "      <td>0</td>\n",
       "      <td>3</td>\n",
       "      <td>city</td>\n",
       "      <td>AC</td>\n",
       "      <td>1</td>\n",
       "      <td>0</td>\n",
       "    </tr>\n",
       "    <tr>\n",
       "      <th>33</th>\n",
       "      <td>Porto Acre</td>\n",
       "      <td>1200807.0</td>\n",
       "      <td>2020-03-31</td>\n",
       "      <td>202014</td>\n",
       "      <td>18824.0</td>\n",
       "      <td>18504.0</td>\n",
       "      <td>False</td>\n",
       "      <td>False</td>\n",
       "      <td>1</td>\n",
       "      <td>5.31237</td>\n",
       "      <td>2020-03-31</td>\n",
       "      <td>0.0</td>\n",
       "      <td>0</td>\n",
       "      <td>3</td>\n",
       "      <td>city</td>\n",
       "      <td>AC</td>\n",
       "      <td>0</td>\n",
       "      <td>0</td>\n",
       "    </tr>\n",
       "    <tr>\n",
       "      <th>34</th>\n",
       "      <td>Rio Branco</td>\n",
       "      <td>1200401.0</td>\n",
       "      <td>2020-03-31</td>\n",
       "      <td>202014</td>\n",
       "      <td>413418.0</td>\n",
       "      <td>407319.0</td>\n",
       "      <td>False</td>\n",
       "      <td>False</td>\n",
       "      <td>34</td>\n",
       "      <td>8.22412</td>\n",
       "      <td>2020-03-31</td>\n",
       "      <td>0.0</td>\n",
       "      <td>0</td>\n",
       "      <td>15</td>\n",
       "      <td>city</td>\n",
       "      <td>AC</td>\n",
       "      <td>0</td>\n",
       "      <td>0</td>\n",
       "    </tr>\n",
       "    <tr>\n",
       "      <th>35</th>\n",
       "      <td>NaN</td>\n",
       "      <td>12.0</td>\n",
       "      <td>2020-03-31</td>\n",
       "      <td>202014</td>\n",
       "      <td>894470.0</td>\n",
       "      <td>881935.0</td>\n",
       "      <td>False</td>\n",
       "      <td>False</td>\n",
       "      <td>42</td>\n",
       "      <td>4.69552</td>\n",
       "      <td>2020-03-31</td>\n",
       "      <td>0.0</td>\n",
       "      <td>0</td>\n",
       "      <td>15</td>\n",
       "      <td>state</td>\n",
       "      <td>AC</td>\n",
       "      <td>1</td>\n",
       "      <td>0</td>\n",
       "    </tr>\n",
       "    <tr>\n",
       "      <th>36</th>\n",
       "      <td>Acrelândia</td>\n",
       "      <td>1200013.0</td>\n",
       "      <td>2020-04-01</td>\n",
       "      <td>202014</td>\n",
       "      <td>15490.0</td>\n",
       "      <td>15256.0</td>\n",
       "      <td>False</td>\n",
       "      <td>False</td>\n",
       "      <td>8</td>\n",
       "      <td>51.64622</td>\n",
       "      <td>2020-04-01</td>\n",
       "      <td>0.0</td>\n",
       "      <td>0</td>\n",
       "      <td>4</td>\n",
       "      <td>city</td>\n",
       "      <td>AC</td>\n",
       "      <td>1</td>\n",
       "      <td>0</td>\n",
       "    </tr>\n",
       "    <tr>\n",
       "      <th>37</th>\n",
       "      <td>Porto Acre</td>\n",
       "      <td>1200807.0</td>\n",
       "      <td>2020-04-01</td>\n",
       "      <td>202014</td>\n",
       "      <td>18824.0</td>\n",
       "      <td>18504.0</td>\n",
       "      <td>False</td>\n",
       "      <td>False</td>\n",
       "      <td>1</td>\n",
       "      <td>5.31237</td>\n",
       "      <td>2020-04-01</td>\n",
       "      <td>0.0</td>\n",
       "      <td>0</td>\n",
       "      <td>4</td>\n",
       "      <td>city</td>\n",
       "      <td>AC</td>\n",
       "      <td>0</td>\n",
       "      <td>0</td>\n",
       "    </tr>\n",
       "    <tr>\n",
       "      <th>38</th>\n",
       "      <td>Rio Branco</td>\n",
       "      <td>1200401.0</td>\n",
       "      <td>2020-04-01</td>\n",
       "      <td>202014</td>\n",
       "      <td>413418.0</td>\n",
       "      <td>407319.0</td>\n",
       "      <td>False</td>\n",
       "      <td>False</td>\n",
       "      <td>34</td>\n",
       "      <td>8.22412</td>\n",
       "      <td>2020-04-01</td>\n",
       "      <td>0.0</td>\n",
       "      <td>0</td>\n",
       "      <td>16</td>\n",
       "      <td>city</td>\n",
       "      <td>AC</td>\n",
       "      <td>0</td>\n",
       "      <td>0</td>\n",
       "    </tr>\n",
       "    <tr>\n",
       "      <th>39</th>\n",
       "      <td>NaN</td>\n",
       "      <td>12.0</td>\n",
       "      <td>2020-04-01</td>\n",
       "      <td>202014</td>\n",
       "      <td>894470.0</td>\n",
       "      <td>881935.0</td>\n",
       "      <td>False</td>\n",
       "      <td>False</td>\n",
       "      <td>43</td>\n",
       "      <td>4.80732</td>\n",
       "      <td>2020-04-01</td>\n",
       "      <td>0.0</td>\n",
       "      <td>0</td>\n",
       "      <td>16</td>\n",
       "      <td>state</td>\n",
       "      <td>AC</td>\n",
       "      <td>1</td>\n",
       "      <td>0</td>\n",
       "    </tr>\n",
       "    <tr>\n",
       "      <th>40</th>\n",
       "      <td>Acrelândia</td>\n",
       "      <td>1200013.0</td>\n",
       "      <td>2020-04-02</td>\n",
       "      <td>202014</td>\n",
       "      <td>15490.0</td>\n",
       "      <td>15256.0</td>\n",
       "      <td>False</td>\n",
       "      <td>False</td>\n",
       "      <td>8</td>\n",
       "      <td>51.64622</td>\n",
       "      <td>2020-04-02</td>\n",
       "      <td>0.0</td>\n",
       "      <td>0</td>\n",
       "      <td>5</td>\n",
       "      <td>city</td>\n",
       "      <td>AC</td>\n",
       "      <td>0</td>\n",
       "      <td>0</td>\n",
       "    </tr>\n",
       "    <tr>\n",
       "      <th>41</th>\n",
       "      <td>Porto Acre</td>\n",
       "      <td>1200807.0</td>\n",
       "      <td>2020-04-02</td>\n",
       "      <td>202014</td>\n",
       "      <td>18824.0</td>\n",
       "      <td>18504.0</td>\n",
       "      <td>False</td>\n",
       "      <td>False</td>\n",
       "      <td>1</td>\n",
       "      <td>5.31237</td>\n",
       "      <td>2020-04-02</td>\n",
       "      <td>0.0</td>\n",
       "      <td>0</td>\n",
       "      <td>5</td>\n",
       "      <td>city</td>\n",
       "      <td>AC</td>\n",
       "      <td>0</td>\n",
       "      <td>0</td>\n",
       "    </tr>\n",
       "    <tr>\n",
       "      <th>42</th>\n",
       "      <td>Rio Branco</td>\n",
       "      <td>1200401.0</td>\n",
       "      <td>2020-04-02</td>\n",
       "      <td>202014</td>\n",
       "      <td>413418.0</td>\n",
       "      <td>407319.0</td>\n",
       "      <td>False</td>\n",
       "      <td>False</td>\n",
       "      <td>36</td>\n",
       "      <td>8.70789</td>\n",
       "      <td>2020-04-02</td>\n",
       "      <td>0.0</td>\n",
       "      <td>0</td>\n",
       "      <td>17</td>\n",
       "      <td>city</td>\n",
       "      <td>AC</td>\n",
       "      <td>2</td>\n",
       "      <td>0</td>\n",
       "    </tr>\n",
       "    <tr>\n",
       "      <th>43</th>\n",
       "      <td>NaN</td>\n",
       "      <td>12.0</td>\n",
       "      <td>2020-04-02</td>\n",
       "      <td>202014</td>\n",
       "      <td>894470.0</td>\n",
       "      <td>881935.0</td>\n",
       "      <td>False</td>\n",
       "      <td>False</td>\n",
       "      <td>45</td>\n",
       "      <td>5.03091</td>\n",
       "      <td>2020-04-02</td>\n",
       "      <td>0.0</td>\n",
       "      <td>0</td>\n",
       "      <td>17</td>\n",
       "      <td>state</td>\n",
       "      <td>AC</td>\n",
       "      <td>2</td>\n",
       "      <td>0</td>\n",
       "    </tr>\n",
       "    <tr>\n",
       "      <th>44</th>\n",
       "      <td>Acrelândia</td>\n",
       "      <td>1200013.0</td>\n",
       "      <td>2020-04-03</td>\n",
       "      <td>202014</td>\n",
       "      <td>15490.0</td>\n",
       "      <td>15256.0</td>\n",
       "      <td>False</td>\n",
       "      <td>False</td>\n",
       "      <td>9</td>\n",
       "      <td>58.10200</td>\n",
       "      <td>2020-04-03</td>\n",
       "      <td>0.0</td>\n",
       "      <td>0</td>\n",
       "      <td>6</td>\n",
       "      <td>city</td>\n",
       "      <td>AC</td>\n",
       "      <td>1</td>\n",
       "      <td>0</td>\n",
       "    </tr>\n",
       "    <tr>\n",
       "      <th>45</th>\n",
       "      <td>Porto Acre</td>\n",
       "      <td>1200807.0</td>\n",
       "      <td>2020-04-03</td>\n",
       "      <td>202014</td>\n",
       "      <td>18824.0</td>\n",
       "      <td>18504.0</td>\n",
       "      <td>False</td>\n",
       "      <td>False</td>\n",
       "      <td>1</td>\n",
       "      <td>5.31237</td>\n",
       "      <td>2020-04-03</td>\n",
       "      <td>0.0</td>\n",
       "      <td>0</td>\n",
       "      <td>6</td>\n",
       "      <td>city</td>\n",
       "      <td>AC</td>\n",
       "      <td>0</td>\n",
       "      <td>0</td>\n",
       "    </tr>\n",
       "    <tr>\n",
       "      <th>46</th>\n",
       "      <td>Rio Branco</td>\n",
       "      <td>1200401.0</td>\n",
       "      <td>2020-04-03</td>\n",
       "      <td>202014</td>\n",
       "      <td>413418.0</td>\n",
       "      <td>407319.0</td>\n",
       "      <td>False</td>\n",
       "      <td>False</td>\n",
       "      <td>36</td>\n",
       "      <td>8.70789</td>\n",
       "      <td>2020-04-03</td>\n",
       "      <td>0.0</td>\n",
       "      <td>0</td>\n",
       "      <td>18</td>\n",
       "      <td>city</td>\n",
       "      <td>AC</td>\n",
       "      <td>0</td>\n",
       "      <td>0</td>\n",
       "    </tr>\n",
       "    <tr>\n",
       "      <th>47</th>\n",
       "      <td>NaN</td>\n",
       "      <td>12.0</td>\n",
       "      <td>2020-04-03</td>\n",
       "      <td>202014</td>\n",
       "      <td>894470.0</td>\n",
       "      <td>881935.0</td>\n",
       "      <td>False</td>\n",
       "      <td>False</td>\n",
       "      <td>46</td>\n",
       "      <td>5.14271</td>\n",
       "      <td>2020-04-03</td>\n",
       "      <td>0.0</td>\n",
       "      <td>0</td>\n",
       "      <td>18</td>\n",
       "      <td>state</td>\n",
       "      <td>AC</td>\n",
       "      <td>1</td>\n",
       "      <td>0</td>\n",
       "    </tr>\n",
       "    <tr>\n",
       "      <th>48</th>\n",
       "      <td>Acrelândia</td>\n",
       "      <td>1200013.0</td>\n",
       "      <td>2020-04-04</td>\n",
       "      <td>202014</td>\n",
       "      <td>15490.0</td>\n",
       "      <td>15256.0</td>\n",
       "      <td>False</td>\n",
       "      <td>False</td>\n",
       "      <td>9</td>\n",
       "      <td>58.10200</td>\n",
       "      <td>2020-04-04</td>\n",
       "      <td>0.0</td>\n",
       "      <td>0</td>\n",
       "      <td>7</td>\n",
       "      <td>city</td>\n",
       "      <td>AC</td>\n",
       "      <td>0</td>\n",
       "      <td>0</td>\n",
       "    </tr>\n",
       "    <tr>\n",
       "      <th>49</th>\n",
       "      <td>Porto Acre</td>\n",
       "      <td>1200807.0</td>\n",
       "      <td>2020-04-04</td>\n",
       "      <td>202014</td>\n",
       "      <td>18824.0</td>\n",
       "      <td>18504.0</td>\n",
       "      <td>False</td>\n",
       "      <td>False</td>\n",
       "      <td>1</td>\n",
       "      <td>5.31237</td>\n",
       "      <td>2020-04-04</td>\n",
       "      <td>0.0</td>\n",
       "      <td>0</td>\n",
       "      <td>7</td>\n",
       "      <td>city</td>\n",
       "      <td>AC</td>\n",
       "      <td>0</td>\n",
       "      <td>0</td>\n",
       "    </tr>\n",
       "  </tbody>\n",
       "</table>\n",
       "</div>"
      ],
      "text/plain": [
       "          city  city_ibge_code        date  epidemiological_week  \\\n",
       "0   Rio Branco       1200401.0  2020-03-17                202012   \n",
       "1          NaN            12.0  2020-03-17                202012   \n",
       "2   Rio Branco       1200401.0  2020-03-18                202012   \n",
       "3          NaN            12.0  2020-03-18                202012   \n",
       "4   Rio Branco       1200401.0  2020-03-19                202012   \n",
       "5          NaN            12.0  2020-03-19                202012   \n",
       "6   Rio Branco       1200401.0  2020-03-20                202012   \n",
       "7          NaN            12.0  2020-03-20                202012   \n",
       "8   Rio Branco       1200401.0  2020-03-21                202012   \n",
       "9          NaN            12.0  2020-03-21                202012   \n",
       "10  Rio Branco       1200401.0  2020-03-22                202013   \n",
       "11         NaN            12.0  2020-03-22                202013   \n",
       "12  Rio Branco       1200401.0  2020-03-23                202013   \n",
       "13         NaN            12.0  2020-03-23                202013   \n",
       "14  Rio Branco       1200401.0  2020-03-24                202013   \n",
       "15         NaN            12.0  2020-03-24                202013   \n",
       "16  Rio Branco       1200401.0  2020-03-25                202013   \n",
       "17         NaN            12.0  2020-03-25                202013   \n",
       "18  Rio Branco       1200401.0  2020-03-26                202013   \n",
       "19         NaN            12.0  2020-03-26                202013   \n",
       "20  Rio Branco       1200401.0  2020-03-27                202013   \n",
       "21         NaN            12.0  2020-03-27                202013   \n",
       "22  Rio Branco       1200401.0  2020-03-28                202013   \n",
       "23         NaN            12.0  2020-03-28                202013   \n",
       "24  Acrelândia       1200013.0  2020-03-29                202014   \n",
       "25  Porto Acre       1200807.0  2020-03-29                202014   \n",
       "26  Rio Branco       1200401.0  2020-03-29                202014   \n",
       "27         NaN            12.0  2020-03-29                202014   \n",
       "28  Acrelândia       1200013.0  2020-03-30                202014   \n",
       "29  Porto Acre       1200807.0  2020-03-30                202014   \n",
       "30  Rio Branco       1200401.0  2020-03-30                202014   \n",
       "31         NaN            12.0  2020-03-30                202014   \n",
       "32  Acrelândia       1200013.0  2020-03-31                202014   \n",
       "33  Porto Acre       1200807.0  2020-03-31                202014   \n",
       "34  Rio Branco       1200401.0  2020-03-31                202014   \n",
       "35         NaN            12.0  2020-03-31                202014   \n",
       "36  Acrelândia       1200013.0  2020-04-01                202014   \n",
       "37  Porto Acre       1200807.0  2020-04-01                202014   \n",
       "38  Rio Branco       1200401.0  2020-04-01                202014   \n",
       "39         NaN            12.0  2020-04-01                202014   \n",
       "40  Acrelândia       1200013.0  2020-04-02                202014   \n",
       "41  Porto Acre       1200807.0  2020-04-02                202014   \n",
       "42  Rio Branco       1200401.0  2020-04-02                202014   \n",
       "43         NaN            12.0  2020-04-02                202014   \n",
       "44  Acrelândia       1200013.0  2020-04-03                202014   \n",
       "45  Porto Acre       1200807.0  2020-04-03                202014   \n",
       "46  Rio Branco       1200401.0  2020-04-03                202014   \n",
       "47         NaN            12.0  2020-04-03                202014   \n",
       "48  Acrelândia       1200013.0  2020-04-04                202014   \n",
       "49  Porto Acre       1200807.0  2020-04-04                202014   \n",
       "\n",
       "    estimated_population  estimated_population_2019  is_last  is_repeated  \\\n",
       "0               413418.0                   407319.0    False        False   \n",
       "1               894470.0                   881935.0    False        False   \n",
       "2               413418.0                   407319.0    False        False   \n",
       "3               894470.0                   881935.0    False        False   \n",
       "4               413418.0                   407319.0    False        False   \n",
       "5               894470.0                   881935.0    False        False   \n",
       "6               413418.0                   407319.0    False        False   \n",
       "7               894470.0                   881935.0    False        False   \n",
       "8               413418.0                   407319.0    False        False   \n",
       "9               894470.0                   881935.0    False        False   \n",
       "10              413418.0                   407319.0    False        False   \n",
       "11              894470.0                   881935.0    False        False   \n",
       "12              413418.0                   407319.0    False        False   \n",
       "13              894470.0                   881935.0    False        False   \n",
       "14              413418.0                   407319.0    False        False   \n",
       "15              894470.0                   881935.0    False        False   \n",
       "16              413418.0                   407319.0    False        False   \n",
       "17              894470.0                   881935.0    False        False   \n",
       "18              413418.0                   407319.0    False        False   \n",
       "19              894470.0                   881935.0    False        False   \n",
       "20              413418.0                   407319.0    False        False   \n",
       "21              894470.0                   881935.0    False        False   \n",
       "22              413418.0                   407319.0    False        False   \n",
       "23              894470.0                   881935.0    False        False   \n",
       "24               15490.0                    15256.0    False        False   \n",
       "25               18824.0                    18504.0    False        False   \n",
       "26              413418.0                   407319.0    False        False   \n",
       "27              894470.0                   881935.0    False        False   \n",
       "28               15490.0                    15256.0    False        False   \n",
       "29               18824.0                    18504.0    False        False   \n",
       "30              413418.0                   407319.0    False        False   \n",
       "31              894470.0                   881935.0    False        False   \n",
       "32               15490.0                    15256.0    False        False   \n",
       "33               18824.0                    18504.0    False        False   \n",
       "34              413418.0                   407319.0    False        False   \n",
       "35              894470.0                   881935.0    False        False   \n",
       "36               15490.0                    15256.0    False        False   \n",
       "37               18824.0                    18504.0    False        False   \n",
       "38              413418.0                   407319.0    False        False   \n",
       "39              894470.0                   881935.0    False        False   \n",
       "40               15490.0                    15256.0    False        False   \n",
       "41               18824.0                    18504.0    False        False   \n",
       "42              413418.0                   407319.0    False        False   \n",
       "43              894470.0                   881935.0    False        False   \n",
       "44               15490.0                    15256.0    False        False   \n",
       "45               18824.0                    18504.0    False        False   \n",
       "46              413418.0                   407319.0    False        False   \n",
       "47              894470.0                   881935.0    False        False   \n",
       "48               15490.0                    15256.0    False        False   \n",
       "49               18824.0                    18504.0    False        False   \n",
       "\n",
       "    last_available_confirmed  last_available_confirmed_per_100k_inhabitants  \\\n",
       "0                          3                                        0.72566   \n",
       "1                          3                                        0.33539   \n",
       "2                          3                                        0.72566   \n",
       "3                          3                                        0.33539   \n",
       "4                          4                                        0.96754   \n",
       "5                          4                                        0.44719   \n",
       "6                          7                                        1.69320   \n",
       "7                          7                                        0.78259   \n",
       "8                         11                                        2.66075   \n",
       "9                         11                                        1.22978   \n",
       "10                        11                                        2.66075   \n",
       "11                        11                                        1.22978   \n",
       "12                        17                                        4.11206   \n",
       "13                        17                                        1.90057   \n",
       "14                        21                                        5.07960   \n",
       "15                        21                                        2.34776   \n",
       "16                        23                                        5.56338   \n",
       "17                        23                                        2.57136   \n",
       "18                        23                                        5.56338   \n",
       "19                        23                                        2.57136   \n",
       "20                        25                                        6.04715   \n",
       "21                        25                                        2.79495   \n",
       "22                        25                                        6.04715   \n",
       "23                        25                                        2.79495   \n",
       "24                         2                                       12.91156   \n",
       "25                         1                                        5.31237   \n",
       "26                        31                                        7.49846   \n",
       "27                        34                                        3.80113   \n",
       "28                         6                                       38.73467   \n",
       "29                         1                                        5.31237   \n",
       "30                        34                                        8.22412   \n",
       "31                        41                                        4.58372   \n",
       "32                         7                                       45.19045   \n",
       "33                         1                                        5.31237   \n",
       "34                        34                                        8.22412   \n",
       "35                        42                                        4.69552   \n",
       "36                         8                                       51.64622   \n",
       "37                         1                                        5.31237   \n",
       "38                        34                                        8.22412   \n",
       "39                        43                                        4.80732   \n",
       "40                         8                                       51.64622   \n",
       "41                         1                                        5.31237   \n",
       "42                        36                                        8.70789   \n",
       "43                        45                                        5.03091   \n",
       "44                         9                                       58.10200   \n",
       "45                         1                                        5.31237   \n",
       "46                        36                                        8.70789   \n",
       "47                        46                                        5.14271   \n",
       "48                         9                                       58.10200   \n",
       "49                         1                                        5.31237   \n",
       "\n",
       "   last_available_date  last_available_death_rate  last_available_deaths  \\\n",
       "0           2020-03-17                        0.0                      0   \n",
       "1           2020-03-17                        0.0                      0   \n",
       "2           2020-03-18                        0.0                      0   \n",
       "3           2020-03-18                        0.0                      0   \n",
       "4           2020-03-19                        0.0                      0   \n",
       "5           2020-03-19                        0.0                      0   \n",
       "6           2020-03-20                        0.0                      0   \n",
       "7           2020-03-20                        0.0                      0   \n",
       "8           2020-03-21                        0.0                      0   \n",
       "9           2020-03-21                        0.0                      0   \n",
       "10          2020-03-22                        0.0                      0   \n",
       "11          2020-03-22                        0.0                      0   \n",
       "12          2020-03-23                        0.0                      0   \n",
       "13          2020-03-23                        0.0                      0   \n",
       "14          2020-03-24                        0.0                      0   \n",
       "15          2020-03-24                        0.0                      0   \n",
       "16          2020-03-25                        0.0                      0   \n",
       "17          2020-03-25                        0.0                      0   \n",
       "18          2020-03-26                        0.0                      0   \n",
       "19          2020-03-26                        0.0                      0   \n",
       "20          2020-03-27                        0.0                      0   \n",
       "21          2020-03-27                        0.0                      0   \n",
       "22          2020-03-28                        0.0                      0   \n",
       "23          2020-03-28                        0.0                      0   \n",
       "24          2020-03-29                        0.0                      0   \n",
       "25          2020-03-29                        0.0                      0   \n",
       "26          2020-03-29                        0.0                      0   \n",
       "27          2020-03-29                        0.0                      0   \n",
       "28          2020-03-30                        0.0                      0   \n",
       "29          2020-03-30                        0.0                      0   \n",
       "30          2020-03-30                        0.0                      0   \n",
       "31          2020-03-30                        0.0                      0   \n",
       "32          2020-03-31                        0.0                      0   \n",
       "33          2020-03-31                        0.0                      0   \n",
       "34          2020-03-31                        0.0                      0   \n",
       "35          2020-03-31                        0.0                      0   \n",
       "36          2020-04-01                        0.0                      0   \n",
       "37          2020-04-01                        0.0                      0   \n",
       "38          2020-04-01                        0.0                      0   \n",
       "39          2020-04-01                        0.0                      0   \n",
       "40          2020-04-02                        0.0                      0   \n",
       "41          2020-04-02                        0.0                      0   \n",
       "42          2020-04-02                        0.0                      0   \n",
       "43          2020-04-02                        0.0                      0   \n",
       "44          2020-04-03                        0.0                      0   \n",
       "45          2020-04-03                        0.0                      0   \n",
       "46          2020-04-03                        0.0                      0   \n",
       "47          2020-04-03                        0.0                      0   \n",
       "48          2020-04-04                        0.0                      0   \n",
       "49          2020-04-04                        0.0                      0   \n",
       "\n",
       "    order_for_place place_type state  new_confirmed  new_deaths  \n",
       "0                 1       city    AC              3           0  \n",
       "1                 1      state    AC              3           0  \n",
       "2                 2       city    AC              0           0  \n",
       "3                 2      state    AC              0           0  \n",
       "4                 3       city    AC              1           0  \n",
       "5                 3      state    AC              1           0  \n",
       "6                 4       city    AC              3           0  \n",
       "7                 4      state    AC              3           0  \n",
       "8                 5       city    AC              4           0  \n",
       "9                 5      state    AC              4           0  \n",
       "10                6       city    AC              0           0  \n",
       "11                6      state    AC              0           0  \n",
       "12                7       city    AC              6           0  \n",
       "13                7      state    AC              6           0  \n",
       "14                8       city    AC              4           0  \n",
       "15                8      state    AC              4           0  \n",
       "16                9       city    AC              2           0  \n",
       "17                9      state    AC              2           0  \n",
       "18               10       city    AC              0           0  \n",
       "19               10      state    AC              0           0  \n",
       "20               11       city    AC              2           0  \n",
       "21               11      state    AC              2           0  \n",
       "22               12       city    AC              0           0  \n",
       "23               12      state    AC              0           0  \n",
       "24                1       city    AC              2           0  \n",
       "25                1       city    AC              1           0  \n",
       "26               13       city    AC              6           0  \n",
       "27               13      state    AC              9           0  \n",
       "28                2       city    AC              4           0  \n",
       "29                2       city    AC              0           0  \n",
       "30               14       city    AC              3           0  \n",
       "31               14      state    AC              7           0  \n",
       "32                3       city    AC              1           0  \n",
       "33                3       city    AC              0           0  \n",
       "34               15       city    AC              0           0  \n",
       "35               15      state    AC              1           0  \n",
       "36                4       city    AC              1           0  \n",
       "37                4       city    AC              0           0  \n",
       "38               16       city    AC              0           0  \n",
       "39               16      state    AC              1           0  \n",
       "40                5       city    AC              0           0  \n",
       "41                5       city    AC              0           0  \n",
       "42               17       city    AC              2           0  \n",
       "43               17      state    AC              2           0  \n",
       "44                6       city    AC              1           0  \n",
       "45                6       city    AC              0           0  \n",
       "46               18       city    AC              0           0  \n",
       "47               18      state    AC              1           0  \n",
       "48                7       city    AC              0           0  \n",
       "49                7       city    AC              0           0  "
      ]
     },
     "execution_count": 68,
     "metadata": {},
     "output_type": "execute_result"
    }
   ],
   "source": [
    "df.head(50)"
   ]
  },
  {
   "cell_type": "code",
   "execution_count": null,
   "id": "c8613a6c",
   "metadata": {},
   "outputs": [],
   "source": []
  }
 ],
 "metadata": {
  "kernelspec": {
   "display_name": "Python 3",
   "language": "python",
   "name": "python3"
  },
  "language_info": {
   "codemirror_mode": {
    "name": "ipython",
    "version": 3
   },
   "file_extension": ".py",
   "mimetype": "text/x-python",
   "name": "python",
   "nbconvert_exporter": "python",
   "pygments_lexer": "ipython3",
   "version": "3.8.8"
  }
 },
 "nbformat": 4,
 "nbformat_minor": 5
}
